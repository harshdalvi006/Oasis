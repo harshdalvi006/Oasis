{
  "nbformat": 4,
  "nbformat_minor": 0,
  "metadata": {
    "colab": {
      "provenance": []
    },
    "kernelspec": {
      "name": "python3",
      "display_name": "Python 3"
    },
    "language_info": {
      "name": "python"
    }
  },
  "cells": [
    {
      "cell_type": "code",
      "execution_count": null,
      "metadata": {
        "id": "POWuxoEVdQSk"
      },
      "outputs": [],
      "source": [
        "# import necessary libraries\n",
        "import pandas as pd\n",
        "import numpy as np\n",
        "import matplotlib.pyplot as plt"
      ]
    },
    {
      "cell_type": "code",
      "source": [
        "# Read the dataset\n",
        "df = pd.read_csv(\"/content/spam.csv\", encoding=\"ISO-8859-1\")\n",
        "df.head()"
      ],
      "metadata": {
        "colab": {
          "base_uri": "https://localhost:8080/",
          "height": 206
        },
        "id": "tVlhxJeYep_4",
        "outputId": "0a3562d4-ed02-4f76-d693-3590a0ff166e"
      },
      "execution_count": null,
      "outputs": [
        {
          "output_type": "execute_result",
          "data": {
            "text/plain": [
              "     v1                                                 v2 Unnamed: 2  \\\n",
              "0   ham  Go until jurong point, crazy.. Available only ...        NaN   \n",
              "1   ham                      Ok lar... Joking wif u oni...        NaN   \n",
              "2  spam  Free entry in 2 a wkly comp to win FA Cup fina...        NaN   \n",
              "3   ham  U dun say so early hor... U c already then say...        NaN   \n",
              "4   ham  Nah I don't think he goes to usf, he lives aro...        NaN   \n",
              "\n",
              "  Unnamed: 3 Unnamed: 4  \n",
              "0        NaN        NaN  \n",
              "1        NaN        NaN  \n",
              "2        NaN        NaN  \n",
              "3        NaN        NaN  \n",
              "4        NaN        NaN  "
            ],
            "text/html": [
              "\n",
              "  <div id=\"df-993ad471-6b7d-414e-b3a8-6e89b6363253\">\n",
              "    <div class=\"colab-df-container\">\n",
              "      <div>\n",
              "<style scoped>\n",
              "    .dataframe tbody tr th:only-of-type {\n",
              "        vertical-align: middle;\n",
              "    }\n",
              "\n",
              "    .dataframe tbody tr th {\n",
              "        vertical-align: top;\n",
              "    }\n",
              "\n",
              "    .dataframe thead th {\n",
              "        text-align: right;\n",
              "    }\n",
              "</style>\n",
              "<table border=\"1\" class=\"dataframe\">\n",
              "  <thead>\n",
              "    <tr style=\"text-align: right;\">\n",
              "      <th></th>\n",
              "      <th>v1</th>\n",
              "      <th>v2</th>\n",
              "      <th>Unnamed: 2</th>\n",
              "      <th>Unnamed: 3</th>\n",
              "      <th>Unnamed: 4</th>\n",
              "    </tr>\n",
              "  </thead>\n",
              "  <tbody>\n",
              "    <tr>\n",
              "      <th>0</th>\n",
              "      <td>ham</td>\n",
              "      <td>Go until jurong point, crazy.. Available only ...</td>\n",
              "      <td>NaN</td>\n",
              "      <td>NaN</td>\n",
              "      <td>NaN</td>\n",
              "    </tr>\n",
              "    <tr>\n",
              "      <th>1</th>\n",
              "      <td>ham</td>\n",
              "      <td>Ok lar... Joking wif u oni...</td>\n",
              "      <td>NaN</td>\n",
              "      <td>NaN</td>\n",
              "      <td>NaN</td>\n",
              "    </tr>\n",
              "    <tr>\n",
              "      <th>2</th>\n",
              "      <td>spam</td>\n",
              "      <td>Free entry in 2 a wkly comp to win FA Cup fina...</td>\n",
              "      <td>NaN</td>\n",
              "      <td>NaN</td>\n",
              "      <td>NaN</td>\n",
              "    </tr>\n",
              "    <tr>\n",
              "      <th>3</th>\n",
              "      <td>ham</td>\n",
              "      <td>U dun say so early hor... U c already then say...</td>\n",
              "      <td>NaN</td>\n",
              "      <td>NaN</td>\n",
              "      <td>NaN</td>\n",
              "    </tr>\n",
              "    <tr>\n",
              "      <th>4</th>\n",
              "      <td>ham</td>\n",
              "      <td>Nah I don't think he goes to usf, he lives aro...</td>\n",
              "      <td>NaN</td>\n",
              "      <td>NaN</td>\n",
              "      <td>NaN</td>\n",
              "    </tr>\n",
              "  </tbody>\n",
              "</table>\n",
              "</div>\n",
              "      <button class=\"colab-df-convert\" onclick=\"convertToInteractive('df-993ad471-6b7d-414e-b3a8-6e89b6363253')\"\n",
              "              title=\"Convert this dataframe to an interactive table.\"\n",
              "              style=\"display:none;\">\n",
              "        \n",
              "  <svg xmlns=\"http://www.w3.org/2000/svg\" height=\"24px\"viewBox=\"0 0 24 24\"\n",
              "       width=\"24px\">\n",
              "    <path d=\"M0 0h24v24H0V0z\" fill=\"none\"/>\n",
              "    <path d=\"M18.56 5.44l.94 2.06.94-2.06 2.06-.94-2.06-.94-.94-2.06-.94 2.06-2.06.94zm-11 1L8.5 8.5l.94-2.06 2.06-.94-2.06-.94L8.5 2.5l-.94 2.06-2.06.94zm10 10l.94 2.06.94-2.06 2.06-.94-2.06-.94-.94-2.06-.94 2.06-2.06.94z\"/><path d=\"M17.41 7.96l-1.37-1.37c-.4-.4-.92-.59-1.43-.59-.52 0-1.04.2-1.43.59L10.3 9.45l-7.72 7.72c-.78.78-.78 2.05 0 2.83L4 21.41c.39.39.9.59 1.41.59.51 0 1.02-.2 1.41-.59l7.78-7.78 2.81-2.81c.8-.78.8-2.07 0-2.86zM5.41 20L4 18.59l7.72-7.72 1.47 1.35L5.41 20z\"/>\n",
              "  </svg>\n",
              "      </button>\n",
              "      \n",
              "  <style>\n",
              "    .colab-df-container {\n",
              "      display:flex;\n",
              "      flex-wrap:wrap;\n",
              "      gap: 12px;\n",
              "    }\n",
              "\n",
              "    .colab-df-convert {\n",
              "      background-color: #E8F0FE;\n",
              "      border: none;\n",
              "      border-radius: 50%;\n",
              "      cursor: pointer;\n",
              "      display: none;\n",
              "      fill: #1967D2;\n",
              "      height: 32px;\n",
              "      padding: 0 0 0 0;\n",
              "      width: 32px;\n",
              "    }\n",
              "\n",
              "    .colab-df-convert:hover {\n",
              "      background-color: #E2EBFA;\n",
              "      box-shadow: 0px 1px 2px rgba(60, 64, 67, 0.3), 0px 1px 3px 1px rgba(60, 64, 67, 0.15);\n",
              "      fill: #174EA6;\n",
              "    }\n",
              "\n",
              "    [theme=dark] .colab-df-convert {\n",
              "      background-color: #3B4455;\n",
              "      fill: #D2E3FC;\n",
              "    }\n",
              "\n",
              "    [theme=dark] .colab-df-convert:hover {\n",
              "      background-color: #434B5C;\n",
              "      box-shadow: 0px 1px 3px 1px rgba(0, 0, 0, 0.15);\n",
              "      filter: drop-shadow(0px 1px 2px rgba(0, 0, 0, 0.3));\n",
              "      fill: #FFFFFF;\n",
              "    }\n",
              "  </style>\n",
              "\n",
              "      <script>\n",
              "        const buttonEl =\n",
              "          document.querySelector('#df-993ad471-6b7d-414e-b3a8-6e89b6363253 button.colab-df-convert');\n",
              "        buttonEl.style.display =\n",
              "          google.colab.kernel.accessAllowed ? 'block' : 'none';\n",
              "\n",
              "        async function convertToInteractive(key) {\n",
              "          const element = document.querySelector('#df-993ad471-6b7d-414e-b3a8-6e89b6363253');\n",
              "          const dataTable =\n",
              "            await google.colab.kernel.invokeFunction('convertToInteractive',\n",
              "                                                     [key], {});\n",
              "          if (!dataTable) return;\n",
              "\n",
              "          const docLinkHtml = 'Like what you see? Visit the ' +\n",
              "            '<a target=\"_blank\" href=https://colab.research.google.com/notebooks/data_table.ipynb>data table notebook</a>'\n",
              "            + ' to learn more about interactive tables.';\n",
              "          element.innerHTML = '';\n",
              "          dataTable['output_type'] = 'display_data';\n",
              "          await google.colab.output.renderOutput(dataTable, element);\n",
              "          const docLink = document.createElement('div');\n",
              "          docLink.innerHTML = docLinkHtml;\n",
              "          element.appendChild(docLink);\n",
              "        }\n",
              "      </script>\n",
              "    </div>\n",
              "  </div>\n",
              "  "
            ]
          },
          "metadata": {},
          "execution_count": 2
        }
      ]
    },
    {
      "cell_type": "code",
      "source": [
        "df.shape  # (rows, columns)"
      ],
      "metadata": {
        "colab": {
          "base_uri": "https://localhost:8080/"
        },
        "id": "SaXa_Xy7eulB",
        "outputId": "7580e1ac-bf17-49ef-a04e-d9c24597c3f2"
      },
      "execution_count": null,
      "outputs": [
        {
          "output_type": "execute_result",
          "data": {
            "text/plain": [
              "(5572, 5)"
            ]
          },
          "metadata": {},
          "execution_count": 3
        }
      ]
    },
    {
      "cell_type": "code",
      "source": [
        "df.isnull().sum()"
      ],
      "metadata": {
        "colab": {
          "base_uri": "https://localhost:8080/"
        },
        "id": "GwI4CSYEewCB",
        "outputId": "7f93c608-0895-4fb5-c129-def598b15d09"
      },
      "execution_count": null,
      "outputs": [
        {
          "output_type": "execute_result",
          "data": {
            "text/plain": [
              "v1               0\n",
              "v2               0\n",
              "Unnamed: 2    5522\n",
              "Unnamed: 3    5560\n",
              "Unnamed: 4    5566\n",
              "dtype: int64"
            ]
          },
          "metadata": {},
          "execution_count": 4
        }
      ]
    },
    {
      "cell_type": "code",
      "source": [
        "df.drop(['Unnamed: 2','Unnamed: 3','Unnamed: 4'],axis=1,inplace=True)\n",
        "df.head()"
      ],
      "metadata": {
        "colab": {
          "base_uri": "https://localhost:8080/",
          "height": 206
        },
        "id": "EqXwQ9Qme0kz",
        "outputId": "85429df6-8932-41e7-ed31-0e2c2f94751b"
      },
      "execution_count": null,
      "outputs": [
        {
          "output_type": "execute_result",
          "data": {
            "text/plain": [
              "     v1                                                 v2\n",
              "0   ham  Go until jurong point, crazy.. Available only ...\n",
              "1   ham                      Ok lar... Joking wif u oni...\n",
              "2  spam  Free entry in 2 a wkly comp to win FA Cup fina...\n",
              "3   ham  U dun say so early hor... U c already then say...\n",
              "4   ham  Nah I don't think he goes to usf, he lives aro..."
            ],
            "text/html": [
              "\n",
              "  <div id=\"df-89432155-22f1-478d-b8c8-43e71687286f\">\n",
              "    <div class=\"colab-df-container\">\n",
              "      <div>\n",
              "<style scoped>\n",
              "    .dataframe tbody tr th:only-of-type {\n",
              "        vertical-align: middle;\n",
              "    }\n",
              "\n",
              "    .dataframe tbody tr th {\n",
              "        vertical-align: top;\n",
              "    }\n",
              "\n",
              "    .dataframe thead th {\n",
              "        text-align: right;\n",
              "    }\n",
              "</style>\n",
              "<table border=\"1\" class=\"dataframe\">\n",
              "  <thead>\n",
              "    <tr style=\"text-align: right;\">\n",
              "      <th></th>\n",
              "      <th>v1</th>\n",
              "      <th>v2</th>\n",
              "    </tr>\n",
              "  </thead>\n",
              "  <tbody>\n",
              "    <tr>\n",
              "      <th>0</th>\n",
              "      <td>ham</td>\n",
              "      <td>Go until jurong point, crazy.. Available only ...</td>\n",
              "    </tr>\n",
              "    <tr>\n",
              "      <th>1</th>\n",
              "      <td>ham</td>\n",
              "      <td>Ok lar... Joking wif u oni...</td>\n",
              "    </tr>\n",
              "    <tr>\n",
              "      <th>2</th>\n",
              "      <td>spam</td>\n",
              "      <td>Free entry in 2 a wkly comp to win FA Cup fina...</td>\n",
              "    </tr>\n",
              "    <tr>\n",
              "      <th>3</th>\n",
              "      <td>ham</td>\n",
              "      <td>U dun say so early hor... U c already then say...</td>\n",
              "    </tr>\n",
              "    <tr>\n",
              "      <th>4</th>\n",
              "      <td>ham</td>\n",
              "      <td>Nah I don't think he goes to usf, he lives aro...</td>\n",
              "    </tr>\n",
              "  </tbody>\n",
              "</table>\n",
              "</div>\n",
              "      <button class=\"colab-df-convert\" onclick=\"convertToInteractive('df-89432155-22f1-478d-b8c8-43e71687286f')\"\n",
              "              title=\"Convert this dataframe to an interactive table.\"\n",
              "              style=\"display:none;\">\n",
              "        \n",
              "  <svg xmlns=\"http://www.w3.org/2000/svg\" height=\"24px\"viewBox=\"0 0 24 24\"\n",
              "       width=\"24px\">\n",
              "    <path d=\"M0 0h24v24H0V0z\" fill=\"none\"/>\n",
              "    <path d=\"M18.56 5.44l.94 2.06.94-2.06 2.06-.94-2.06-.94-.94-2.06-.94 2.06-2.06.94zm-11 1L8.5 8.5l.94-2.06 2.06-.94-2.06-.94L8.5 2.5l-.94 2.06-2.06.94zm10 10l.94 2.06.94-2.06 2.06-.94-2.06-.94-.94-2.06-.94 2.06-2.06.94z\"/><path d=\"M17.41 7.96l-1.37-1.37c-.4-.4-.92-.59-1.43-.59-.52 0-1.04.2-1.43.59L10.3 9.45l-7.72 7.72c-.78.78-.78 2.05 0 2.83L4 21.41c.39.39.9.59 1.41.59.51 0 1.02-.2 1.41-.59l7.78-7.78 2.81-2.81c.8-.78.8-2.07 0-2.86zM5.41 20L4 18.59l7.72-7.72 1.47 1.35L5.41 20z\"/>\n",
              "  </svg>\n",
              "      </button>\n",
              "      \n",
              "  <style>\n",
              "    .colab-df-container {\n",
              "      display:flex;\n",
              "      flex-wrap:wrap;\n",
              "      gap: 12px;\n",
              "    }\n",
              "\n",
              "    .colab-df-convert {\n",
              "      background-color: #E8F0FE;\n",
              "      border: none;\n",
              "      border-radius: 50%;\n",
              "      cursor: pointer;\n",
              "      display: none;\n",
              "      fill: #1967D2;\n",
              "      height: 32px;\n",
              "      padding: 0 0 0 0;\n",
              "      width: 32px;\n",
              "    }\n",
              "\n",
              "    .colab-df-convert:hover {\n",
              "      background-color: #E2EBFA;\n",
              "      box-shadow: 0px 1px 2px rgba(60, 64, 67, 0.3), 0px 1px 3px 1px rgba(60, 64, 67, 0.15);\n",
              "      fill: #174EA6;\n",
              "    }\n",
              "\n",
              "    [theme=dark] .colab-df-convert {\n",
              "      background-color: #3B4455;\n",
              "      fill: #D2E3FC;\n",
              "    }\n",
              "\n",
              "    [theme=dark] .colab-df-convert:hover {\n",
              "      background-color: #434B5C;\n",
              "      box-shadow: 0px 1px 3px 1px rgba(0, 0, 0, 0.15);\n",
              "      filter: drop-shadow(0px 1px 2px rgba(0, 0, 0, 0.3));\n",
              "      fill: #FFFFFF;\n",
              "    }\n",
              "  </style>\n",
              "\n",
              "      <script>\n",
              "        const buttonEl =\n",
              "          document.querySelector('#df-89432155-22f1-478d-b8c8-43e71687286f button.colab-df-convert');\n",
              "        buttonEl.style.display =\n",
              "          google.colab.kernel.accessAllowed ? 'block' : 'none';\n",
              "\n",
              "        async function convertToInteractive(key) {\n",
              "          const element = document.querySelector('#df-89432155-22f1-478d-b8c8-43e71687286f');\n",
              "          const dataTable =\n",
              "            await google.colab.kernel.invokeFunction('convertToInteractive',\n",
              "                                                     [key], {});\n",
              "          if (!dataTable) return;\n",
              "\n",
              "          const docLinkHtml = 'Like what you see? Visit the ' +\n",
              "            '<a target=\"_blank\" href=https://colab.research.google.com/notebooks/data_table.ipynb>data table notebook</a>'\n",
              "            + ' to learn more about interactive tables.';\n",
              "          element.innerHTML = '';\n",
              "          dataTable['output_type'] = 'display_data';\n",
              "          await google.colab.output.renderOutput(dataTable, element);\n",
              "          const docLink = document.createElement('div');\n",
              "          docLink.innerHTML = docLinkHtml;\n",
              "          element.appendChild(docLink);\n",
              "        }\n",
              "      </script>\n",
              "    </div>\n",
              "  </div>\n",
              "  "
            ]
          },
          "metadata": {},
          "execution_count": 5
        }
      ]
    },
    {
      "cell_type": "code",
      "source": [
        "df['v1'].value_counts() "
      ],
      "metadata": {
        "colab": {
          "base_uri": "https://localhost:8080/"
        },
        "id": "HMkAzR_De3rQ",
        "outputId": "155d4647-63e9-4a82-f494-42eb698f49fd"
      },
      "execution_count": null,
      "outputs": [
        {
          "output_type": "execute_result",
          "data": {
            "text/plain": [
              "ham     4825\n",
              "spam     747\n",
              "Name: v1, dtype: int64"
            ]
          },
          "metadata": {},
          "execution_count": 6
        }
      ]
    },
    {
      "cell_type": "code",
      "source": [
        "df['v2'].value_counts() "
      ],
      "metadata": {
        "colab": {
          "base_uri": "https://localhost:8080/"
        },
        "id": "BthV2in5e6VM",
        "outputId": "61f7373a-7eb5-4149-dcfd-a8b5170a59c5"
      },
      "execution_count": null,
      "outputs": [
        {
          "output_type": "execute_result",
          "data": {
            "text/plain": [
              "Sorry, I'll call later                                                                                                                                                 30\n",
              "I cant pick the phone right now. Pls send a message                                                                                                                    12\n",
              "Ok...                                                                                                                                                                  10\n",
              "7 wonders in My WORLD 7th You 6th Ur style 5th Ur smile 4th Ur Personality 3rd Ur Nature 2nd Ur SMS and 1st \\Ur Lovely Friendship\\\"... good morning dear\"               4\n",
              "Say this slowly.? GOD,I LOVE YOU &amp; I NEED YOU,CLEAN MY HEART WITH YOUR BLOOD.Send this to Ten special people &amp; u c miracle tomorrow, do it,pls,pls do it...     4\n",
              "                                                                                                                                                                       ..\n",
              "I gotta collect da car at 6 lei.                                                                                                                                        1\n",
              "No. On the way home. So if not for the long dry spell the season would have been over                                                                                   1\n",
              "Urgent! Please call 09061743811 from landline. Your ABTA complimentary 4* Tenerife Holiday or å£5000 cash await collection SAE T&Cs Box 326 CW25WX 150ppm               1\n",
              "Dear 0776xxxxxxx U've been invited to XCHAT. This is our final attempt to contact u! Txt CHAT to 86688 150p/MsgrcvdHG/Suite342/2Lands/Row/W1J6HL LDN 18yrs              1\n",
              "Rofl. Its true to its name                                                                                                                                              1\n",
              "Name: v2, Length: 5169, dtype: int64"
            ]
          },
          "metadata": {},
          "execution_count": 7
        }
      ]
    },
    {
      "cell_type": "code",
      "source": [
        "df.dtypes"
      ],
      "metadata": {
        "colab": {
          "base_uri": "https://localhost:8080/"
        },
        "id": "vtmAqVTje9Sm",
        "outputId": "4bde64f8-477b-4607-f335-3fd1778a1b77"
      },
      "execution_count": null,
      "outputs": [
        {
          "output_type": "execute_result",
          "data": {
            "text/plain": [
              "v1    object\n",
              "v2    object\n",
              "dtype: object"
            ]
          },
          "metadata": {},
          "execution_count": 8
        }
      ]
    },
    {
      "cell_type": "code",
      "source": [
        "df.describe()"
      ],
      "metadata": {
        "colab": {
          "base_uri": "https://localhost:8080/",
          "height": 174
        },
        "id": "WecUsB8Ue-yp",
        "outputId": "f6ecc97b-4e05-4bed-c8d7-a4feab28e5a0"
      },
      "execution_count": null,
      "outputs": [
        {
          "output_type": "execute_result",
          "data": {
            "text/plain": [
              "          v1                      v2\n",
              "count   5572                    5572\n",
              "unique     2                    5169\n",
              "top      ham  Sorry, I'll call later\n",
              "freq    4825                      30"
            ],
            "text/html": [
              "\n",
              "  <div id=\"df-a5fdee98-e46f-42ad-afaf-abd2df7380cf\">\n",
              "    <div class=\"colab-df-container\">\n",
              "      <div>\n",
              "<style scoped>\n",
              "    .dataframe tbody tr th:only-of-type {\n",
              "        vertical-align: middle;\n",
              "    }\n",
              "\n",
              "    .dataframe tbody tr th {\n",
              "        vertical-align: top;\n",
              "    }\n",
              "\n",
              "    .dataframe thead th {\n",
              "        text-align: right;\n",
              "    }\n",
              "</style>\n",
              "<table border=\"1\" class=\"dataframe\">\n",
              "  <thead>\n",
              "    <tr style=\"text-align: right;\">\n",
              "      <th></th>\n",
              "      <th>v1</th>\n",
              "      <th>v2</th>\n",
              "    </tr>\n",
              "  </thead>\n",
              "  <tbody>\n",
              "    <tr>\n",
              "      <th>count</th>\n",
              "      <td>5572</td>\n",
              "      <td>5572</td>\n",
              "    </tr>\n",
              "    <tr>\n",
              "      <th>unique</th>\n",
              "      <td>2</td>\n",
              "      <td>5169</td>\n",
              "    </tr>\n",
              "    <tr>\n",
              "      <th>top</th>\n",
              "      <td>ham</td>\n",
              "      <td>Sorry, I'll call later</td>\n",
              "    </tr>\n",
              "    <tr>\n",
              "      <th>freq</th>\n",
              "      <td>4825</td>\n",
              "      <td>30</td>\n",
              "    </tr>\n",
              "  </tbody>\n",
              "</table>\n",
              "</div>\n",
              "      <button class=\"colab-df-convert\" onclick=\"convertToInteractive('df-a5fdee98-e46f-42ad-afaf-abd2df7380cf')\"\n",
              "              title=\"Convert this dataframe to an interactive table.\"\n",
              "              style=\"display:none;\">\n",
              "        \n",
              "  <svg xmlns=\"http://www.w3.org/2000/svg\" height=\"24px\"viewBox=\"0 0 24 24\"\n",
              "       width=\"24px\">\n",
              "    <path d=\"M0 0h24v24H0V0z\" fill=\"none\"/>\n",
              "    <path d=\"M18.56 5.44l.94 2.06.94-2.06 2.06-.94-2.06-.94-.94-2.06-.94 2.06-2.06.94zm-11 1L8.5 8.5l.94-2.06 2.06-.94-2.06-.94L8.5 2.5l-.94 2.06-2.06.94zm10 10l.94 2.06.94-2.06 2.06-.94-2.06-.94-.94-2.06-.94 2.06-2.06.94z\"/><path d=\"M17.41 7.96l-1.37-1.37c-.4-.4-.92-.59-1.43-.59-.52 0-1.04.2-1.43.59L10.3 9.45l-7.72 7.72c-.78.78-.78 2.05 0 2.83L4 21.41c.39.39.9.59 1.41.59.51 0 1.02-.2 1.41-.59l7.78-7.78 2.81-2.81c.8-.78.8-2.07 0-2.86zM5.41 20L4 18.59l7.72-7.72 1.47 1.35L5.41 20z\"/>\n",
              "  </svg>\n",
              "      </button>\n",
              "      \n",
              "  <style>\n",
              "    .colab-df-container {\n",
              "      display:flex;\n",
              "      flex-wrap:wrap;\n",
              "      gap: 12px;\n",
              "    }\n",
              "\n",
              "    .colab-df-convert {\n",
              "      background-color: #E8F0FE;\n",
              "      border: none;\n",
              "      border-radius: 50%;\n",
              "      cursor: pointer;\n",
              "      display: none;\n",
              "      fill: #1967D2;\n",
              "      height: 32px;\n",
              "      padding: 0 0 0 0;\n",
              "      width: 32px;\n",
              "    }\n",
              "\n",
              "    .colab-df-convert:hover {\n",
              "      background-color: #E2EBFA;\n",
              "      box-shadow: 0px 1px 2px rgba(60, 64, 67, 0.3), 0px 1px 3px 1px rgba(60, 64, 67, 0.15);\n",
              "      fill: #174EA6;\n",
              "    }\n",
              "\n",
              "    [theme=dark] .colab-df-convert {\n",
              "      background-color: #3B4455;\n",
              "      fill: #D2E3FC;\n",
              "    }\n",
              "\n",
              "    [theme=dark] .colab-df-convert:hover {\n",
              "      background-color: #434B5C;\n",
              "      box-shadow: 0px 1px 3px 1px rgba(0, 0, 0, 0.15);\n",
              "      filter: drop-shadow(0px 1px 2px rgba(0, 0, 0, 0.3));\n",
              "      fill: #FFFFFF;\n",
              "    }\n",
              "  </style>\n",
              "\n",
              "      <script>\n",
              "        const buttonEl =\n",
              "          document.querySelector('#df-a5fdee98-e46f-42ad-afaf-abd2df7380cf button.colab-df-convert');\n",
              "        buttonEl.style.display =\n",
              "          google.colab.kernel.accessAllowed ? 'block' : 'none';\n",
              "\n",
              "        async function convertToInteractive(key) {\n",
              "          const element = document.querySelector('#df-a5fdee98-e46f-42ad-afaf-abd2df7380cf');\n",
              "          const dataTable =\n",
              "            await google.colab.kernel.invokeFunction('convertToInteractive',\n",
              "                                                     [key], {});\n",
              "          if (!dataTable) return;\n",
              "\n",
              "          const docLinkHtml = 'Like what you see? Visit the ' +\n",
              "            '<a target=\"_blank\" href=https://colab.research.google.com/notebooks/data_table.ipynb>data table notebook</a>'\n",
              "            + ' to learn more about interactive tables.';\n",
              "          element.innerHTML = '';\n",
              "          dataTable['output_type'] = 'display_data';\n",
              "          await google.colab.output.renderOutput(dataTable, element);\n",
              "          const docLink = document.createElement('div');\n",
              "          docLink.innerHTML = docLinkHtml;\n",
              "          element.appendChild(docLink);\n",
              "        }\n",
              "      </script>\n",
              "    </div>\n",
              "  </div>\n",
              "  "
            ]
          },
          "metadata": {},
          "execution_count": 9
        }
      ]
    },
    {
      "cell_type": "code",
      "source": [
        "df.info()"
      ],
      "metadata": {
        "colab": {
          "base_uri": "https://localhost:8080/"
        },
        "id": "a4YnTEH5fAZP",
        "outputId": "a4dd403e-ef62-45fa-ec4b-6a9e19876854"
      },
      "execution_count": null,
      "outputs": [
        {
          "output_type": "stream",
          "name": "stdout",
          "text": [
            "<class 'pandas.core.frame.DataFrame'>\n",
            "RangeIndex: 5572 entries, 0 to 5571\n",
            "Data columns (total 2 columns):\n",
            " #   Column  Non-Null Count  Dtype \n",
            "---  ------  --------------  ----- \n",
            " 0   v1      5572 non-null   object\n",
            " 1   v2      5572 non-null   object\n",
            "dtypes: object(2)\n",
            "memory usage: 87.2+ KB\n"
          ]
        }
      ]
    },
    {
      "cell_type": "code",
      "source": [
        "df.rename(columns={'v1':'Class','v2':'Mail'},inplace=True)\n",
        "df.columns"
      ],
      "metadata": {
        "colab": {
          "base_uri": "https://localhost:8080/"
        },
        "id": "CzXbcBgKfCns",
        "outputId": "5276d976-625c-4667-aca3-3b270d919a8e"
      },
      "execution_count": null,
      "outputs": [
        {
          "output_type": "execute_result",
          "data": {
            "text/plain": [
              "Index(['Class', 'Mail'], dtype='object')"
            ]
          },
          "metadata": {},
          "execution_count": 11
        }
      ]
    },
    {
      "cell_type": "code",
      "source": [
        "#Label Encoding\n",
        "# spam=0\n",
        "# ham=1\n",
        "df.loc[df['Class']=='spam','Class',]=0\n",
        "df.loc[df['Class']=='ham','Class',]=1"
      ],
      "metadata": {
        "id": "13qR5Q3XfEBO"
      },
      "execution_count": null,
      "outputs": []
    },
    {
      "cell_type": "markdown",
      "source": [
        "# **Data Visualization**"
      ],
      "metadata": {
        "id": "qT0pZ9vRfF8W"
      }
    },
    {
      "cell_type": "code",
      "source": [
        "a=['ham','spam']\n",
        "b=df['Class'].value_counts()\n",
        "plt.pie(b,labels=a,autopct='%1.2f%%')\n",
        "plt.show()"
      ],
      "metadata": {
        "colab": {
          "base_uri": "https://localhost:8080/",
          "height": 406
        },
        "id": "mWbrukTAfHul",
        "outputId": "e09ed045-1035-43de-da9c-37b2e22de782"
      },
      "execution_count": null,
      "outputs": [
        {
          "output_type": "display_data",
          "data": {
            "text/plain": [
              "<Figure size 640x480 with 1 Axes>"
            ],
            "image/png": "[encoded data removed]"
          },
          "metadata": {}
        }
      ]
    },
    {
      "cell_type": "code",
      "source": [
        "import seaborn as sns\n",
        "sns.countplot(x='Class', data=df )\n",
        "plt.show()"
      ],
      "metadata": {
        "colab": {
          "base_uri": "https://localhost:8080/",
          "height": 450
        },
        "id": "LQ64i-s3fJnb",
        "outputId": "d5327651-7763-4fff-dc13-4db95de24391"
      },
      "execution_count": null,
      "outputs": [
        {
          "output_type": "display_data",
          "data": {
            "text/plain": [
              "<Figure size 640x480 with 1 Axes>"
            ],
            "image/png": "[encoded data removed]"
          },
          "metadata": {}
        }
      ]
    },
    {
      "cell_type": "code",
      "source": [
        "df['Class'].plot(bins=10,kind='hist',figsize=(5,5))"
      ],
      "metadata": {
        "colab": {
          "base_uri": "https://localhost:8080/",
          "height": 463
        },
        "id": "P4ZqxPgFfLCD",
        "outputId": "c4cbec10-bb50-4e5d-9726-92bd58999712"
      },
      "execution_count": null,
      "outputs": [
        {
          "output_type": "execute_result",
          "data": {
            "text/plain": [
              "<Axes: ylabel='Frequency'>"
            ]
          },
          "metadata": {},
          "execution_count": 16
        },
        {
          "output_type": "display_data",
          "data": {
            "text/plain": [
              "<Figure size 500x500 with 1 Axes>"
            ],
            "image/png": "[encoded data removed]"
          },
          "metadata": {}
        }
      ]
    },
    {
      "cell_type": "code",
      "source": [
        "from sklearn.model_selection import train_test_split"
      ],
      "metadata": {
        "id": "B6W74AeKfQBG"
      },
      "execution_count": null,
      "outputs": []
    },
    {
      "cell_type": "code",
      "source": [
        "X=df['Mail']\n",
        "Y=df[\"Class\"]\n",
        "X_train,X_test,y_train,y_test=train_test_split(X,Y,test_size=0.2,random_state=42)"
      ],
      "metadata": {
        "id": "dCtZCj6WfSR7"
      },
      "execution_count": null,
      "outputs": []
    },
    {
      "cell_type": "code",
      "source": [
        "from sklearn.feature_extraction.text import TfidfVectorizer"
      ],
      "metadata": {
        "id": "uj-yCQ9HfTna"
      },
      "execution_count": null,
      "outputs": []
    },
    {
      "cell_type": "code",
      "source": [
        "f=TfidfVectorizer(min_df=1,stop_words='english',lowercase=True)\n",
        "x_train=f.fit_transform(X_train)\n",
        "x_test=f.fit_transform(X_test)"
      ],
      "metadata": {
        "id": "7pcsvbO7fU5e"
      },
      "execution_count": null,
      "outputs": []
    },
    {
      "cell_type": "code",
      "source": [
        "y_train=y_train.astype('int')\n",
        "y_test=y_test.astype('int')"
      ],
      "metadata": {
        "id": "7u1654rTfWZX"
      },
      "execution_count": null,
      "outputs": []
    },
    {
      "cell_type": "code",
      "source": [
        "from sklearn.linear_model import LogisticRegression\n",
        "from sklearn import metrics\n",
        "from sklearn.metrics import accuracy_score"
      ],
      "metadata": {
        "id": "o1_nQKdCfYIL"
      },
      "execution_count": null,
      "outputs": []
    },
    {
      "cell_type": "code",
      "source": [
        "#Logistic Regression\n",
        "model=LogisticRegression()\n",
        "model.fit(x_train,y_train)\n",
        "pred_train=model.predict(x_train)\n",
        "accuracy=accuracy_score(y_train,pred_train)*100\n",
        "print(\"Accuracy of the model is:\",accuracy)\n",
        "cnf=metrics.confusion_matrix(y_train,pred_train)\n",
        "cnf"
      ],
      "metadata": {
        "id": "vpYzWDk6fZSd",
        "outputId": "bc4465df-9290-4560-ae99-b0a319fb41b8",
        "colab": {
          "base_uri": "https://localhost:8080/"
        }
      },
      "execution_count": null,
      "outputs": [
        {
          "output_type": "stream",
          "name": "stdout",
          "text": [
            "Accuracy of the model is: 96.94862014808166\n"
          ]
        },
        {
          "output_type": "execute_result",
          "data": {
            "text/plain": [
              "array([[ 463,  134],\n",
              "       [   2, 3858]])"
            ]
          },
          "metadata": {},
          "execution_count": 23
        }
      ]
    },
    {
      "cell_type": "code",
      "source": [
        "from sklearn.neighbors import KNeighborsClassifier\n",
        "# KNN Classifier\n",
        "model3 = KNeighborsClassifier()\n",
        "model3.fit(x_train,y_train)\n",
        "ypred = model3.predict(x_train)\n",
        "accuracy_knn = accuracy_score(y_train, ypred)*100\n",
        "print('Accuracy of the model is:',accuracy_knn) \n",
        "cnf=metrics.confusion_matrix(y_train,pred_train)\n",
        "cnf"
      ],
      "metadata": {
        "id": "7eOi45SifbAr",
        "outputId": "371f5159-4d01-40b4-fb0a-52855f58bd46",
        "colab": {
          "base_uri": "https://localhost:8080/"
        }
      },
      "execution_count": null,
      "outputs": [
        {
          "output_type": "stream",
          "name": "stdout",
          "text": [
            "Accuracy of the model is: 91.58626879066637\n"
          ]
        },
        {
          "output_type": "execute_result",
          "data": {
            "text/plain": [
              "array([[ 463,  134],\n",
              "       [   2, 3858]])"
            ]
          },
          "metadata": {},
          "execution_count": 24
        }
      ]
    },
    {
      "cell_type": "markdown",
      "source": [
        "![thank u.jpg](data:image/jpeg;base64,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)"
      ],
      "metadata": {
        "id": "VyhknXzggKL2"
      }
    }
  ]
}