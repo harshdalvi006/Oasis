{
  "nbformat": 4,
  "nbformat_minor": 0,
  "metadata": {
    "colab": {
      "provenance": []
    },
    "kernelspec": {
      "name": "python3",
      "display_name": "Python 3"
    },
    "language_info": {
      "name": "python"
    }
  },
  "cells": [
    {
      "cell_type": "markdown",
      "source": [
        "# **Import Libraries**"
      ],
      "metadata": {
        "id": "cLNJdwWZi00F"
      }
    },
    {
      "cell_type": "code",
      "execution_count": 1,
      "metadata": {
        "id": "IdcImUI2gYp6"
      },
      "outputs": [],
      "source": [
        "import pandas as pd\n",
        "import numpy as np\n",
        "import seaborn as sns\n",
        "import matplotlib.pyplot as plt\n",
        "from sklearn.model_selection import train_test_split\n",
        "from sklearn.linear_model import LinearRegression"
      ]
    },
    {
      "cell_type": "markdown",
      "source": [
        "# **Loading the Dataset**"
      ],
      "metadata": {
        "id": "72D1epW2i3Zy"
      }
    },
    {
      "cell_type": "code",
      "source": [
        "data=pd.read_csv(\"/content/Advertising.csv\")\n",
        "data.head(5)"
      ],
      "metadata": {
        "colab": {
          "base_uri": "https://localhost:8080/",
          "height": 206
        },
        "id": "OA9AoItqi5Pc",
        "outputId": "d38c59b2-5668-44f3-e56d-2ab49d1900b7"
      },
      "execution_count": 2,
      "outputs": [
        {
          "output_type": "execute_result",
          "data": {
            "text/plain": [
              "   Unnamed: 0     TV  Radio  Newspaper  Sales\n",
              "0           1  230.1   37.8       69.2   22.1\n",
              "1           2   44.5   39.3       45.1   10.4\n",
              "2           3   17.2   45.9       69.3    9.3\n",
              "3           4  151.5   41.3       58.5   18.5\n",
              "4           5  180.8   10.8       58.4   12.9"
            ],
            "text/html": [
              "\n",
              "  <div id=\"df-ed2a7eff-1469-45d7-bc8c-d3fbbc4df4f2\">\n",
              "    <div class=\"colab-df-container\">\n",
              "      <div>\n",
              "<style scoped>\n",
              "    .dataframe tbody tr th:only-of-type {\n",
              "        vertical-align: middle;\n",
              "    }\n",
              "\n",
              "    .dataframe tbody tr th {\n",
              "        vertical-align: top;\n",
              "    }\n",
              "\n",
              "    .dataframe thead th {\n",
              "        text-align: right;\n",
              "    }\n",
              "</style>\n",
              "<table border=\"1\" class=\"dataframe\">\n",
              "  <thead>\n",
              "    <tr style=\"text-align: right;\">\n",
              "      <th></th>\n",
              "      <th>Unnamed: 0</th>\n",
              "      <th>TV</th>\n",
              "      <th>Radio</th>\n",
              "      <th>Newspaper</th>\n",
              "      <th>Sales</th>\n",
              "    </tr>\n",
              "  </thead>\n",
              "  <tbody>\n",
              "    <tr>\n",
              "      <th>0</th>\n",
              "      <td>1</td>\n",
              "      <td>230.1</td>\n",
              "      <td>37.8</td>\n",
              "      <td>69.2</td>\n",
              "      <td>22.1</td>\n",
              "    </tr>\n",
              "    <tr>\n",
              "      <th>1</th>\n",
              "      <td>2</td>\n",
              "      <td>44.5</td>\n",
              "      <td>39.3</td>\n",
              "      <td>45.1</td>\n",
              "      <td>10.4</td>\n",
              "    </tr>\n",
              "    <tr>\n",
              "      <th>2</th>\n",
              "      <td>3</td>\n",
              "      <td>17.2</td>\n",
              "      <td>45.9</td>\n",
              "      <td>69.3</td>\n",
              "      <td>9.3</td>\n",
              "    </tr>\n",
              "    <tr>\n",
              "      <th>3</th>\n",
              "      <td>4</td>\n",
              "      <td>151.5</td>\n",
              "      <td>41.3</td>\n",
              "      <td>58.5</td>\n",
              "      <td>18.5</td>\n",
              "    </tr>\n",
              "    <tr>\n",
              "      <th>4</th>\n",
              "      <td>5</td>\n",
              "      <td>180.8</td>\n",
              "      <td>10.8</td>\n",
              "      <td>58.4</td>\n",
              "      <td>12.9</td>\n",
              "    </tr>\n",
              "  </tbody>\n",
              "</table>\n",
              "</div>\n",
              "      <button class=\"colab-df-convert\" onclick=\"convertToInteractive('df-ed2a7eff-1469-45d7-bc8c-d3fbbc4df4f2')\"\n",
              "              title=\"Convert this dataframe to an interactive table.\"\n",
              "              style=\"display:none;\">\n",
              "        \n",
              "  <svg xmlns=\"http://www.w3.org/2000/svg\" height=\"24px\"viewBox=\"0 0 24 24\"\n",
              "       width=\"24px\">\n",
              "    <path d=\"M0 0h24v24H0V0z\" fill=\"none\"/>\n",
              "    <path d=\"M18.56 5.44l.94 2.06.94-2.06 2.06-.94-2.06-.94-.94-2.06-.94 2.06-2.06.94zm-11 1L8.5 8.5l.94-2.06 2.06-.94-2.06-.94L8.5 2.5l-.94 2.06-2.06.94zm10 10l.94 2.06.94-2.06 2.06-.94-2.06-.94-.94-2.06-.94 2.06-2.06.94z\"/><path d=\"M17.41 7.96l-1.37-1.37c-.4-.4-.92-.59-1.43-.59-.52 0-1.04.2-1.43.59L10.3 9.45l-7.72 7.72c-.78.78-.78 2.05 0 2.83L4 21.41c.39.39.9.59 1.41.59.51 0 1.02-.2 1.41-.59l7.78-7.78 2.81-2.81c.8-.78.8-2.07 0-2.86zM5.41 20L4 18.59l7.72-7.72 1.47 1.35L5.41 20z\"/>\n",
              "  </svg>\n",
              "      </button>\n",
              "      \n",
              "  <style>\n",
              "    .colab-df-container {\n",
              "      display:flex;\n",
              "      flex-wrap:wrap;\n",
              "      gap: 12px;\n",
              "    }\n",
              "\n",
              "    .colab-df-convert {\n",
              "      background-color: #E8F0FE;\n",
              "      border: none;\n",
              "      border-radius: 50%;\n",
              "      cursor: pointer;\n",
              "      display: none;\n",
              "      fill: #1967D2;\n",
              "      height: 32px;\n",
              "      padding: 0 0 0 0;\n",
              "      width: 32px;\n",
              "    }\n",
              "\n",
              "    .colab-df-convert:hover {\n",
              "      background-color: #E2EBFA;\n",
              "      box-shadow: 0px 1px 2px rgba(60, 64, 67, 0.3), 0px 1px 3px 1px rgba(60, 64, 67, 0.15);\n",
              "      fill: #174EA6;\n",
              "    }\n",
              "\n",
              "    [theme=dark] .colab-df-convert {\n",
              "      background-color: #3B4455;\n",
              "      fill: #D2E3FC;\n",
              "    }\n",
              "\n",
              "    [theme=dark] .colab-df-convert:hover {\n",
              "      background-color: #434B5C;\n",
              "      box-shadow: 0px 1px 3px 1px rgba(0, 0, 0, 0.15);\n",
              "      filter: drop-shadow(0px 1px 2px rgba(0, 0, 0, 0.3));\n",
              "      fill: #FFFFFF;\n",
              "    }\n",
              "  </style>\n",
              "\n",
              "      <script>\n",
              "        const buttonEl =\n",
              "          document.querySelector('#df-ed2a7eff-1469-45d7-bc8c-d3fbbc4df4f2 button.colab-df-convert');\n",
              "        buttonEl.style.display =\n",
              "          google.colab.kernel.accessAllowed ? 'block' : 'none';\n",
              "\n",
              "        async function convertToInteractive(key) {\n",
              "          const element = document.querySelector('#df-ed2a7eff-1469-45d7-bc8c-d3fbbc4df4f2');\n",
              "          const dataTable =\n",
              "            await google.colab.kernel.invokeFunction('convertToInteractive',\n",
              "                                                     [key], {});\n",
              "          if (!dataTable) return;\n",
              "\n",
              "          const docLinkHtml = 'Like what you see? Visit the ' +\n",
              "            '<a target=\"_blank\" href=https://colab.research.google.com/notebooks/data_table.ipynb>data table notebook</a>'\n",
              "            + ' to learn more about interactive tables.';\n",
              "          element.innerHTML = '';\n",
              "          dataTable['output_type'] = 'display_data';\n",
              "          await google.colab.output.renderOutput(dataTable, element);\n",
              "          const docLink = document.createElement('div');\n",
              "          docLink.innerHTML = docLinkHtml;\n",
              "          element.appendChild(docLink);\n",
              "        }\n",
              "      </script>\n",
              "    </div>\n",
              "  </div>\n",
              "  "
            ]
          },
          "metadata": {},
          "execution_count": 2
        }
      ]
    },
    {
      "cell_type": "code",
      "source": [
        "data.tail()"
      ],
      "metadata": {
        "colab": {
          "base_uri": "https://localhost:8080/",
          "height": 206
        },
        "id": "mqLuV4pfi8UV",
        "outputId": "c1a94389-76d3-4d03-d851-e19619236f22"
      },
      "execution_count": 3,
      "outputs": [
        {
          "output_type": "execute_result",
          "data": {
            "text/plain": [
              "     Unnamed: 0     TV  Radio  Newspaper  Sales\n",
              "195         196   38.2    3.7       13.8    7.6\n",
              "196         197   94.2    4.9        8.1    9.7\n",
              "197         198  177.0    9.3        6.4   12.8\n",
              "198         199  283.6   42.0       66.2   25.5\n",
              "199         200  232.1    8.6        8.7   13.4"
            ],
            "text/html": [
              "\n",
              "  <div id=\"df-9edda823-2728-4a58-afea-9328167f1d25\">\n",
              "    <div class=\"colab-df-container\">\n",
              "      <div>\n",
              "<style scoped>\n",
              "    .dataframe tbody tr th:only-of-type {\n",
              "        vertical-align: middle;\n",
              "    }\n",
              "\n",
              "    .dataframe tbody tr th {\n",
              "        vertical-align: top;\n",
              "    }\n",
              "\n",
              "    .dataframe thead th {\n",
              "        text-align: right;\n",
              "    }\n",
              "</style>\n",
              "<table border=\"1\" class=\"dataframe\">\n",
              "  <thead>\n",
              "    <tr style=\"text-align: right;\">\n",
              "      <th></th>\n",
              "      <th>Unnamed: 0</th>\n",
              "      <th>TV</th>\n",
              "      <th>Radio</th>\n",
              "      <th>Newspaper</th>\n",
              "      <th>Sales</th>\n",
              "    </tr>\n",
              "  </thead>\n",
              "  <tbody>\n",
              "    <tr>\n",
              "      <th>195</th>\n",
              "      <td>196</td>\n",
              "      <td>38.2</td>\n",
              "      <td>3.7</td>\n",
              "      <td>13.8</td>\n",
              "      <td>7.6</td>\n",
              "    </tr>\n",
              "    <tr>\n",
              "      <th>196</th>\n",
              "      <td>197</td>\n",
              "      <td>94.2</td>\n",
              "      <td>4.9</td>\n",
              "      <td>8.1</td>\n",
              "      <td>9.7</td>\n",
              "    </tr>\n",
              "    <tr>\n",
              "      <th>197</th>\n",
              "      <td>198</td>\n",
              "      <td>177.0</td>\n",
              "      <td>9.3</td>\n",
              "      <td>6.4</td>\n",
              "      <td>12.8</td>\n",
              "    </tr>\n",
              "    <tr>\n",
              "      <th>198</th>\n",
              "      <td>199</td>\n",
              "      <td>283.6</td>\n",
              "      <td>42.0</td>\n",
              "      <td>66.2</td>\n",
              "      <td>25.5</td>\n",
              "    </tr>\n",
              "    <tr>\n",
              "      <th>199</th>\n",
              "      <td>200</td>\n",
              "      <td>232.1</td>\n",
              "      <td>8.6</td>\n",
              "      <td>8.7</td>\n",
              "      <td>13.4</td>\n",
              "    </tr>\n",
              "  </tbody>\n",
              "</table>\n",
              "</div>\n",
              "      <button class=\"colab-df-convert\" onclick=\"convertToInteractive('df-9edda823-2728-4a58-afea-9328167f1d25')\"\n",
              "              title=\"Convert this dataframe to an interactive table.\"\n",
              "              style=\"display:none;\">\n",
              "        \n",
              "  <svg xmlns=\"http://www.w3.org/2000/svg\" height=\"24px\"viewBox=\"0 0 24 24\"\n",
              "       width=\"24px\">\n",
              "    <path d=\"M0 0h24v24H0V0z\" fill=\"none\"/>\n",
              "    <path d=\"M18.56 5.44l.94 2.06.94-2.06 2.06-.94-2.06-.94-.94-2.06-.94 2.06-2.06.94zm-11 1L8.5 8.5l.94-2.06 2.06-.94-2.06-.94L8.5 2.5l-.94 2.06-2.06.94zm10 10l.94 2.06.94-2.06 2.06-.94-2.06-.94-.94-2.06-.94 2.06-2.06.94z\"/><path d=\"M17.41 7.96l-1.37-1.37c-.4-.4-.92-.59-1.43-.59-.52 0-1.04.2-1.43.59L10.3 9.45l-7.72 7.72c-.78.78-.78 2.05 0 2.83L4 21.41c.39.39.9.59 1.41.59.51 0 1.02-.2 1.41-.59l7.78-7.78 2.81-2.81c.8-.78.8-2.07 0-2.86zM5.41 20L4 18.59l7.72-7.72 1.47 1.35L5.41 20z\"/>\n",
              "  </svg>\n",
              "      </button>\n",
              "      \n",
              "  <style>\n",
              "    .colab-df-container {\n",
              "      display:flex;\n",
              "      flex-wrap:wrap;\n",
              "      gap: 12px;\n",
              "    }\n",
              "\n",
              "    .colab-df-convert {\n",
              "      background-color: #E8F0FE;\n",
              "      border: none;\n",
              "      border-radius: 50%;\n",
              "      cursor: pointer;\n",
              "      display: none;\n",
              "      fill: #1967D2;\n",
              "      height: 32px;\n",
              "      padding: 0 0 0 0;\n",
              "      width: 32px;\n",
              "    }\n",
              "\n",
              "    .colab-df-convert:hover {\n",
              "      background-color: #E2EBFA;\n",
              "      box-shadow: 0px 1px 2px rgba(60, 64, 67, 0.3), 0px 1px 3px 1px rgba(60, 64, 67, 0.15);\n",
              "      fill: #174EA6;\n",
              "    }\n",
              "\n",
              "    [theme=dark] .colab-df-convert {\n",
              "      background-color: #3B4455;\n",
              "      fill: #D2E3FC;\n",
              "    }\n",
              "\n",
              "    [theme=dark] .colab-df-convert:hover {\n",
              "      background-color: #434B5C;\n",
              "      box-shadow: 0px 1px 3px 1px rgba(0, 0, 0, 0.15);\n",
              "      filter: drop-shadow(0px 1px 2px rgba(0, 0, 0, 0.3));\n",
              "      fill: #FFFFFF;\n",
              "    }\n",
              "  </style>\n",
              "\n",
              "      <script>\n",
              "        const buttonEl =\n",
              "          document.querySelector('#df-9edda823-2728-4a58-afea-9328167f1d25 button.colab-df-convert');\n",
              "        buttonEl.style.display =\n",
              "          google.colab.kernel.accessAllowed ? 'block' : 'none';\n",
              "\n",
              "        async function convertToInteractive(key) {\n",
              "          const element = document.querySelector('#df-9edda823-2728-4a58-afea-9328167f1d25');\n",
              "          const dataTable =\n",
              "            await google.colab.kernel.invokeFunction('convertToInteractive',\n",
              "                                                     [key], {});\n",
              "          if (!dataTable) return;\n",
              "\n",
              "          const docLinkHtml = 'Like what you see? Visit the ' +\n",
              "            '<a target=\"_blank\" href=https://colab.research.google.com/notebooks/data_table.ipynb>data table notebook</a>'\n",
              "            + ' to learn more about interactive tables.';\n",
              "          element.innerHTML = '';\n",
              "          dataTable['output_type'] = 'display_data';\n",
              "          await google.colab.output.renderOutput(dataTable, element);\n",
              "          const docLink = document.createElement('div');\n",
              "          docLink.innerHTML = docLinkHtml;\n",
              "          element.appendChild(docLink);\n",
              "        }\n",
              "      </script>\n",
              "    </div>\n",
              "  </div>\n",
              "  "
            ]
          },
          "metadata": {},
          "execution_count": 3
        }
      ]
    },
    {
      "cell_type": "code",
      "source": [
        "data.shape"
      ],
      "metadata": {
        "colab": {
          "base_uri": "https://localhost:8080/"
        },
        "id": "u7SizVIyi9it",
        "outputId": "2895f7d8-c545-45ad-c313-2fee2e17d2ff"
      },
      "execution_count": 4,
      "outputs": [
        {
          "output_type": "execute_result",
          "data": {
            "text/plain": [
              "(200, 5)"
            ]
          },
          "metadata": {},
          "execution_count": 4
        }
      ]
    },
    {
      "cell_type": "code",
      "source": [
        "data.drop(['Unnamed: 0'],axis=1,inplace=True)"
      ],
      "metadata": {
        "id": "blL83HM6i_Hu"
      },
      "execution_count": 5,
      "outputs": []
    },
    {
      "cell_type": "code",
      "source": [
        "data.head(5)"
      ],
      "metadata": {
        "colab": {
          "base_uri": "https://localhost:8080/",
          "height": 206
        },
        "id": "Uw5WqcUZjAJ3",
        "outputId": "f79d3135-32d7-478d-8c4d-f50ce04738e4"
      },
      "execution_count": 6,
      "outputs": [
        {
          "output_type": "execute_result",
          "data": {
            "text/plain": [
              "      TV  Radio  Newspaper  Sales\n",
              "0  230.1   37.8       69.2   22.1\n",
              "1   44.5   39.3       45.1   10.4\n",
              "2   17.2   45.9       69.3    9.3\n",
              "3  151.5   41.3       58.5   18.5\n",
              "4  180.8   10.8       58.4   12.9"
            ],
            "text/html": [
              "\n",
              "  <div id=\"df-b5cecec5-ca79-4c0d-9387-687e4e77404d\">\n",
              "    <div class=\"colab-df-container\">\n",
              "      <div>\n",
              "<style scoped>\n",
              "    .dataframe tbody tr th:only-of-type {\n",
              "        vertical-align: middle;\n",
              "    }\n",
              "\n",
              "    .dataframe tbody tr th {\n",
              "        vertical-align: top;\n",
              "    }\n",
              "\n",
              "    .dataframe thead th {\n",
              "        text-align: right;\n",
              "    }\n",
              "</style>\n",
              "<table border=\"1\" class=\"dataframe\">\n",
              "  <thead>\n",
              "    <tr style=\"text-align: right;\">\n",
              "      <th></th>\n",
              "      <th>TV</th>\n",
              "      <th>Radio</th>\n",
              "      <th>Newspaper</th>\n",
              "      <th>Sales</th>\n",
              "    </tr>\n",
              "  </thead>\n",
              "  <tbody>\n",
              "    <tr>\n",
              "      <th>0</th>\n",
              "      <td>230.1</td>\n",
              "      <td>37.8</td>\n",
              "      <td>69.2</td>\n",
              "      <td>22.1</td>\n",
              "    </tr>\n",
              "    <tr>\n",
              "      <th>1</th>\n",
              "      <td>44.5</td>\n",
              "      <td>39.3</td>\n",
              "      <td>45.1</td>\n",
              "      <td>10.4</td>\n",
              "    </tr>\n",
              "    <tr>\n",
              "      <th>2</th>\n",
              "      <td>17.2</td>\n",
              "      <td>45.9</td>\n",
              "      <td>69.3</td>\n",
              "      <td>9.3</td>\n",
              "    </tr>\n",
              "    <tr>\n",
              "      <th>3</th>\n",
              "      <td>151.5</td>\n",
              "      <td>41.3</td>\n",
              "      <td>58.5</td>\n",
              "      <td>18.5</td>\n",
              "    </tr>\n",
              "    <tr>\n",
              "      <th>4</th>\n",
              "      <td>180.8</td>\n",
              "      <td>10.8</td>\n",
              "      <td>58.4</td>\n",
              "      <td>12.9</td>\n",
              "    </tr>\n",
              "  </tbody>\n",
              "</table>\n",
              "</div>\n",
              "      <button class=\"colab-df-convert\" onclick=\"convertToInteractive('df-b5cecec5-ca79-4c0d-9387-687e4e77404d')\"\n",
              "              title=\"Convert this dataframe to an interactive table.\"\n",
              "              style=\"display:none;\">\n",
              "        \n",
              "  <svg xmlns=\"http://www.w3.org/2000/svg\" height=\"24px\"viewBox=\"0 0 24 24\"\n",
              "       width=\"24px\">\n",
              "    <path d=\"M0 0h24v24H0V0z\" fill=\"none\"/>\n",
              "    <path d=\"M18.56 5.44l.94 2.06.94-2.06 2.06-.94-2.06-.94-.94-2.06-.94 2.06-2.06.94zm-11 1L8.5 8.5l.94-2.06 2.06-.94-2.06-.94L8.5 2.5l-.94 2.06-2.06.94zm10 10l.94 2.06.94-2.06 2.06-.94-2.06-.94-.94-2.06-.94 2.06-2.06.94z\"/><path d=\"M17.41 7.96l-1.37-1.37c-.4-.4-.92-.59-1.43-.59-.52 0-1.04.2-1.43.59L10.3 9.45l-7.72 7.72c-.78.78-.78 2.05 0 2.83L4 21.41c.39.39.9.59 1.41.59.51 0 1.02-.2 1.41-.59l7.78-7.78 2.81-2.81c.8-.78.8-2.07 0-2.86zM5.41 20L4 18.59l7.72-7.72 1.47 1.35L5.41 20z\"/>\n",
              "  </svg>\n",
              "      </button>\n",
              "      \n",
              "  <style>\n",
              "    .colab-df-container {\n",
              "      display:flex;\n",
              "      flex-wrap:wrap;\n",
              "      gap: 12px;\n",
              "    }\n",
              "\n",
              "    .colab-df-convert {\n",
              "      background-color: #E8F0FE;\n",
              "      border: none;\n",
              "      border-radius: 50%;\n",
              "      cursor: pointer;\n",
              "      display: none;\n",
              "      fill: #1967D2;\n",
              "      height: 32px;\n",
              "      padding: 0 0 0 0;\n",
              "      width: 32px;\n",
              "    }\n",
              "\n",
              "    .colab-df-convert:hover {\n",
              "      background-color: #E2EBFA;\n",
              "      box-shadow: 0px 1px 2px rgba(60, 64, 67, 0.3), 0px 1px 3px 1px rgba(60, 64, 67, 0.15);\n",
              "      fill: #174EA6;\n",
              "    }\n",
              "\n",
              "    [theme=dark] .colab-df-convert {\n",
              "      background-color: #3B4455;\n",
              "      fill: #D2E3FC;\n",
              "    }\n",
              "\n",
              "    [theme=dark] .colab-df-convert:hover {\n",
              "      background-color: #434B5C;\n",
              "      box-shadow: 0px 1px 3px 1px rgba(0, 0, 0, 0.15);\n",
              "      filter: drop-shadow(0px 1px 2px rgba(0, 0, 0, 0.3));\n",
              "      fill: #FFFFFF;\n",
              "    }\n",
              "  </style>\n",
              "\n",
              "      <script>\n",
              "        const buttonEl =\n",
              "          document.querySelector('#df-b5cecec5-ca79-4c0d-9387-687e4e77404d button.colab-df-convert');\n",
              "        buttonEl.style.display =\n",
              "          google.colab.kernel.accessAllowed ? 'block' : 'none';\n",
              "\n",
              "        async function convertToInteractive(key) {\n",
              "          const element = document.querySelector('#df-b5cecec5-ca79-4c0d-9387-687e4e77404d');\n",
              "          const dataTable =\n",
              "            await google.colab.kernel.invokeFunction('convertToInteractive',\n",
              "                                                     [key], {});\n",
              "          if (!dataTable) return;\n",
              "\n",
              "          const docLinkHtml = 'Like what you see? Visit the ' +\n",
              "            '<a target=\"_blank\" href=https://colab.research.google.com/notebooks/data_table.ipynb>data table notebook</a>'\n",
              "            + ' to learn more about interactive tables.';\n",
              "          element.innerHTML = '';\n",
              "          dataTable['output_type'] = 'display_data';\n",
              "          await google.colab.output.renderOutput(dataTable, element);\n",
              "          const docLink = document.createElement('div');\n",
              "          docLink.innerHTML = docLinkHtml;\n",
              "          element.appendChild(docLink);\n",
              "        }\n",
              "      </script>\n",
              "    </div>\n",
              "  </div>\n",
              "  "
            ]
          },
          "metadata": {},
          "execution_count": 6
        }
      ]
    },
    {
      "cell_type": "code",
      "source": [
        "data.count()"
      ],
      "metadata": {
        "colab": {
          "base_uri": "https://localhost:8080/"
        },
        "id": "eNW3qdOFjCFo",
        "outputId": "ed18119f-adcf-4aeb-a4c6-0b98dd5984bb"
      },
      "execution_count": 7,
      "outputs": [
        {
          "output_type": "execute_result",
          "data": {
            "text/plain": [
              "TV           200\n",
              "Radio        200\n",
              "Newspaper    200\n",
              "Sales        200\n",
              "dtype: int64"
            ]
          },
          "metadata": {},
          "execution_count": 7
        }
      ]
    },
    {
      "cell_type": "code",
      "source": [
        "data.info()"
      ],
      "metadata": {
        "colab": {
          "base_uri": "https://localhost:8080/"
        },
        "id": "8FyuoAGNjDNg",
        "outputId": "0e9bbb49-4c25-4a54-a76f-f3fb491826a6"
      },
      "execution_count": 8,
      "outputs": [
        {
          "output_type": "stream",
          "name": "stdout",
          "text": [
            "<class 'pandas.core.frame.DataFrame'>\n",
            "RangeIndex: 200 entries, 0 to 199\n",
            "Data columns (total 4 columns):\n",
            " #   Column     Non-Null Count  Dtype  \n",
            "---  ------     --------------  -----  \n",
            " 0   TV         200 non-null    float64\n",
            " 1   Radio      200 non-null    float64\n",
            " 2   Newspaper  200 non-null    float64\n",
            " 3   Sales      200 non-null    float64\n",
            "dtypes: float64(4)\n",
            "memory usage: 6.4 KB\n"
          ]
        }
      ]
    },
    {
      "cell_type": "code",
      "source": [
        "data.describe()"
      ],
      "metadata": {
        "colab": {
          "base_uri": "https://localhost:8080/",
          "height": 300
        },
        "id": "XqjZGaTUjFC1",
        "outputId": "8e1fe4cd-7e09-4a9b-f7aa-a0d0e0ffc530"
      },
      "execution_count": 9,
      "outputs": [
        {
          "output_type": "execute_result",
          "data": {
            "text/plain": [
              "               TV       Radio   Newspaper       Sales\n",
              "count  200.000000  200.000000  200.000000  200.000000\n",
              "mean   147.042500   23.264000   30.554000   14.022500\n",
              "std     85.854236   14.846809   21.778621    5.217457\n",
              "min      0.700000    0.000000    0.300000    1.600000\n",
              "25%     74.375000    9.975000   12.750000   10.375000\n",
              "50%    149.750000   22.900000   25.750000   12.900000\n",
              "75%    218.825000   36.525000   45.100000   17.400000\n",
              "max    296.400000   49.600000  114.000000   27.000000"
            ],
            "text/html": [
              "\n",
              "  <div id=\"df-08edabb7-0682-4427-9a50-1847c2d49b47\">\n",
              "    <div class=\"colab-df-container\">\n",
              "      <div>\n",
              "<style scoped>\n",
              "    .dataframe tbody tr th:only-of-type {\n",
              "        vertical-align: middle;\n",
              "    }\n",
              "\n",
              "    .dataframe tbody tr th {\n",
              "        vertical-align: top;\n",
              "    }\n",
              "\n",
              "    .dataframe thead th {\n",
              "        text-align: right;\n",
              "    }\n",
              "</style>\n",
              "<table border=\"1\" class=\"dataframe\">\n",
              "  <thead>\n",
              "    <tr style=\"text-align: right;\">\n",
              "      <th></th>\n",
              "      <th>TV</th>\n",
              "      <th>Radio</th>\n",
              "      <th>Newspaper</th>\n",
              "      <th>Sales</th>\n",
              "    </tr>\n",
              "  </thead>\n",
              "  <tbody>\n",
              "    <tr>\n",
              "      <th>count</th>\n",
              "      <td>200.000000</td>\n",
              "      <td>200.000000</td>\n",
              "      <td>200.000000</td>\n",
              "      <td>200.000000</td>\n",
              "    </tr>\n",
              "    <tr>\n",
              "      <th>mean</th>\n",
              "      <td>147.042500</td>\n",
              "      <td>23.264000</td>\n",
              "      <td>30.554000</td>\n",
              "      <td>14.022500</td>\n",
              "    </tr>\n",
              "    <tr>\n",
              "      <th>std</th>\n",
              "      <td>85.854236</td>\n",
              "      <td>14.846809</td>\n",
              "      <td>21.778621</td>\n",
              "      <td>5.217457</td>\n",
              "    </tr>\n",
              "    <tr>\n",
              "      <th>min</th>\n",
              "      <td>0.700000</td>\n",
              "      <td>0.000000</td>\n",
              "      <td>0.300000</td>\n",
              "      <td>1.600000</td>\n",
              "    </tr>\n",
              "    <tr>\n",
              "      <th>25%</th>\n",
              "      <td>74.375000</td>\n",
              "      <td>9.975000</td>\n",
              "      <td>12.750000</td>\n",
              "      <td>10.375000</td>\n",
              "    </tr>\n",
              "    <tr>\n",
              "      <th>50%</th>\n",
              "      <td>149.750000</td>\n",
              "      <td>22.900000</td>\n",
              "      <td>25.750000</td>\n",
              "      <td>12.900000</td>\n",
              "    </tr>\n",
              "    <tr>\n",
              "      <th>75%</th>\n",
              "      <td>218.825000</td>\n",
              "      <td>36.525000</td>\n",
              "      <td>45.100000</td>\n",
              "      <td>17.400000</td>\n",
              "    </tr>\n",
              "    <tr>\n",
              "      <th>max</th>\n",
              "      <td>296.400000</td>\n",
              "      <td>49.600000</td>\n",
              "      <td>114.000000</td>\n",
              "      <td>27.000000</td>\n",
              "    </tr>\n",
              "  </tbody>\n",
              "</table>\n",
              "</div>\n",
              "      <button class=\"colab-df-convert\" onclick=\"convertToInteractive('df-08edabb7-0682-4427-9a50-1847c2d49b47')\"\n",
              "              title=\"Convert this dataframe to an interactive table.\"\n",
              "              style=\"display:none;\">\n",
              "        \n",
              "  <svg xmlns=\"http://www.w3.org/2000/svg\" height=\"24px\"viewBox=\"0 0 24 24\"\n",
              "       width=\"24px\">\n",
              "    <path d=\"M0 0h24v24H0V0z\" fill=\"none\"/>\n",
              "    <path d=\"M18.56 5.44l.94 2.06.94-2.06 2.06-.94-2.06-.94-.94-2.06-.94 2.06-2.06.94zm-11 1L8.5 8.5l.94-2.06 2.06-.94-2.06-.94L8.5 2.5l-.94 2.06-2.06.94zm10 10l.94 2.06.94-2.06 2.06-.94-2.06-.94-.94-2.06-.94 2.06-2.06.94z\"/><path d=\"M17.41 7.96l-1.37-1.37c-.4-.4-.92-.59-1.43-.59-.52 0-1.04.2-1.43.59L10.3 9.45l-7.72 7.72c-.78.78-.78 2.05 0 2.83L4 21.41c.39.39.9.59 1.41.59.51 0 1.02-.2 1.41-.59l7.78-7.78 2.81-2.81c.8-.78.8-2.07 0-2.86zM5.41 20L4 18.59l7.72-7.72 1.47 1.35L5.41 20z\"/>\n",
              "  </svg>\n",
              "      </button>\n",
              "      \n",
              "  <style>\n",
              "    .colab-df-container {\n",
              "      display:flex;\n",
              "      flex-wrap:wrap;\n",
              "      gap: 12px;\n",
              "    }\n",
              "\n",
              "    .colab-df-convert {\n",
              "      background-color: #E8F0FE;\n",
              "      border: none;\n",
              "      border-radius: 50%;\n",
              "      cursor: pointer;\n",
              "      display: none;\n",
              "      fill: #1967D2;\n",
              "      height: 32px;\n",
              "      padding: 0 0 0 0;\n",
              "      width: 32px;\n",
              "    }\n",
              "\n",
              "    .colab-df-convert:hover {\n",
              "      background-color: #E2EBFA;\n",
              "      box-shadow: 0px 1px 2px rgba(60, 64, 67, 0.3), 0px 1px 3px 1px rgba(60, 64, 67, 0.15);\n",
              "      fill: #174EA6;\n",
              "    }\n",
              "\n",
              "    [theme=dark] .colab-df-convert {\n",
              "      background-color: #3B4455;\n",
              "      fill: #D2E3FC;\n",
              "    }\n",
              "\n",
              "    [theme=dark] .colab-df-convert:hover {\n",
              "      background-color: #434B5C;\n",
              "      box-shadow: 0px 1px 3px 1px rgba(0, 0, 0, 0.15);\n",
              "      filter: drop-shadow(0px 1px 2px rgba(0, 0, 0, 0.3));\n",
              "      fill: #FFFFFF;\n",
              "    }\n",
              "  </style>\n",
              "\n",
              "      <script>\n",
              "        const buttonEl =\n",
              "          document.querySelector('#df-08edabb7-0682-4427-9a50-1847c2d49b47 button.colab-df-convert');\n",
              "        buttonEl.style.display =\n",
              "          google.colab.kernel.accessAllowed ? 'block' : 'none';\n",
              "\n",
              "        async function convertToInteractive(key) {\n",
              "          const element = document.querySelector('#df-08edabb7-0682-4427-9a50-1847c2d49b47');\n",
              "          const dataTable =\n",
              "            await google.colab.kernel.invokeFunction('convertToInteractive',\n",
              "                                                     [key], {});\n",
              "          if (!dataTable) return;\n",
              "\n",
              "          const docLinkHtml = 'Like what you see? Visit the ' +\n",
              "            '<a target=\"_blank\" href=https://colab.research.google.com/notebooks/data_table.ipynb>data table notebook</a>'\n",
              "            + ' to learn more about interactive tables.';\n",
              "          element.innerHTML = '';\n",
              "          dataTable['output_type'] = 'display_data';\n",
              "          await google.colab.output.renderOutput(dataTable, element);\n",
              "          const docLink = document.createElement('div');\n",
              "          docLink.innerHTML = docLinkHtml;\n",
              "          element.appendChild(docLink);\n",
              "        }\n",
              "      </script>\n",
              "    </div>\n",
              "  </div>\n",
              "  "
            ]
          },
          "metadata": {},
          "execution_count": 9
        }
      ]
    },
    {
      "cell_type": "code",
      "source": [
        "# to check the null missing values\n",
        "data.isnull().sum()"
      ],
      "metadata": {
        "colab": {
          "base_uri": "https://localhost:8080/"
        },
        "id": "hMMyu01LjGgy",
        "outputId": "6636852a-1a0d-407a-d25a-faa19cdbb770"
      },
      "execution_count": 10,
      "outputs": [
        {
          "output_type": "execute_result",
          "data": {
            "text/plain": [
              "TV           0\n",
              "Radio        0\n",
              "Newspaper    0\n",
              "Sales        0\n",
              "dtype: int64"
            ]
          },
          "metadata": {},
          "execution_count": 10
        }
      ]
    },
    {
      "cell_type": "markdown",
      "source": [
        "# **Exploratory Data Analysis**"
      ],
      "metadata": {
        "id": "1tVvP_cEjIBF"
      }
    },
    {
      "cell_type": "code",
      "source": [
        "data.corr()"
      ],
      "metadata": {
        "colab": {
          "base_uri": "https://localhost:8080/",
          "height": 174
        },
        "id": "RrxE1_oKjJdk",
        "outputId": "6b4e2040-978c-4b04-d28e-946d0f44a564"
      },
      "execution_count": 11,
      "outputs": [
        {
          "output_type": "execute_result",
          "data": {
            "text/plain": [
              "                 TV     Radio  Newspaper     Sales\n",
              "TV         1.000000  0.054809   0.056648  0.782224\n",
              "Radio      0.054809  1.000000   0.354104  0.576223\n",
              "Newspaper  0.056648  0.354104   1.000000  0.228299\n",
              "Sales      0.782224  0.576223   0.228299  1.000000"
            ],
            "text/html": [
              "\n",
              "  <div id=\"df-d5a48acd-261d-400d-b462-48661749b471\">\n",
              "    <div class=\"colab-df-container\">\n",
              "      <div>\n",
              "<style scoped>\n",
              "    .dataframe tbody tr th:only-of-type {\n",
              "        vertical-align: middle;\n",
              "    }\n",
              "\n",
              "    .dataframe tbody tr th {\n",
              "        vertical-align: top;\n",
              "    }\n",
              "\n",
              "    .dataframe thead th {\n",
              "        text-align: right;\n",
              "    }\n",
              "</style>\n",
              "<table border=\"1\" class=\"dataframe\">\n",
              "  <thead>\n",
              "    <tr style=\"text-align: right;\">\n",
              "      <th></th>\n",
              "      <th>TV</th>\n",
              "      <th>Radio</th>\n",
              "      <th>Newspaper</th>\n",
              "      <th>Sales</th>\n",
              "    </tr>\n",
              "  </thead>\n",
              "  <tbody>\n",
              "    <tr>\n",
              "      <th>TV</th>\n",
              "      <td>1.000000</td>\n",
              "      <td>0.054809</td>\n",
              "      <td>0.056648</td>\n",
              "      <td>0.782224</td>\n",
              "    </tr>\n",
              "    <tr>\n",
              "      <th>Radio</th>\n",
              "      <td>0.054809</td>\n",
              "      <td>1.000000</td>\n",
              "      <td>0.354104</td>\n",
              "      <td>0.576223</td>\n",
              "    </tr>\n",
              "    <tr>\n",
              "      <th>Newspaper</th>\n",
              "      <td>0.056648</td>\n",
              "      <td>0.354104</td>\n",
              "      <td>1.000000</td>\n",
              "      <td>0.228299</td>\n",
              "    </tr>\n",
              "    <tr>\n",
              "      <th>Sales</th>\n",
              "      <td>0.782224</td>\n",
              "      <td>0.576223</td>\n",
              "      <td>0.228299</td>\n",
              "      <td>1.000000</td>\n",
              "    </tr>\n",
              "  </tbody>\n",
              "</table>\n",
              "</div>\n",
              "      <button class=\"colab-df-convert\" onclick=\"convertToInteractive('df-d5a48acd-261d-400d-b462-48661749b471')\"\n",
              "              title=\"Convert this dataframe to an interactive table.\"\n",
              "              style=\"display:none;\">\n",
              "        \n",
              "  <svg xmlns=\"http://www.w3.org/2000/svg\" height=\"24px\"viewBox=\"0 0 24 24\"\n",
              "       width=\"24px\">\n",
              "    <path d=\"M0 0h24v24H0V0z\" fill=\"none\"/>\n",
              "    <path d=\"M18.56 5.44l.94 2.06.94-2.06 2.06-.94-2.06-.94-.94-2.06-.94 2.06-2.06.94zm-11 1L8.5 8.5l.94-2.06 2.06-.94-2.06-.94L8.5 2.5l-.94 2.06-2.06.94zm10 10l.94 2.06.94-2.06 2.06-.94-2.06-.94-.94-2.06-.94 2.06-2.06.94z\"/><path d=\"M17.41 7.96l-1.37-1.37c-.4-.4-.92-.59-1.43-.59-.52 0-1.04.2-1.43.59L10.3 9.45l-7.72 7.72c-.78.78-.78 2.05 0 2.83L4 21.41c.39.39.9.59 1.41.59.51 0 1.02-.2 1.41-.59l7.78-7.78 2.81-2.81c.8-.78.8-2.07 0-2.86zM5.41 20L4 18.59l7.72-7.72 1.47 1.35L5.41 20z\"/>\n",
              "  </svg>\n",
              "      </button>\n",
              "      \n",
              "  <style>\n",
              "    .colab-df-container {\n",
              "      display:flex;\n",
              "      flex-wrap:wrap;\n",
              "      gap: 12px;\n",
              "    }\n",
              "\n",
              "    .colab-df-convert {\n",
              "      background-color: #E8F0FE;\n",
              "      border: none;\n",
              "      border-radius: 50%;\n",
              "      cursor: pointer;\n",
              "      display: none;\n",
              "      fill: #1967D2;\n",
              "      height: 32px;\n",
              "      padding: 0 0 0 0;\n",
              "      width: 32px;\n",
              "    }\n",
              "\n",
              "    .colab-df-convert:hover {\n",
              "      background-color: #E2EBFA;\n",
              "      box-shadow: 0px 1px 2px rgba(60, 64, 67, 0.3), 0px 1px 3px 1px rgba(60, 64, 67, 0.15);\n",
              "      fill: #174EA6;\n",
              "    }\n",
              "\n",
              "    [theme=dark] .colab-df-convert {\n",
              "      background-color: #3B4455;\n",
              "      fill: #D2E3FC;\n",
              "    }\n",
              "\n",
              "    [theme=dark] .colab-df-convert:hover {\n",
              "      background-color: #434B5C;\n",
              "      box-shadow: 0px 1px 3px 1px rgba(0, 0, 0, 0.15);\n",
              "      filter: drop-shadow(0px 1px 2px rgba(0, 0, 0, 0.3));\n",
              "      fill: #FFFFFF;\n",
              "    }\n",
              "  </style>\n",
              "\n",
              "      <script>\n",
              "        const buttonEl =\n",
              "          document.querySelector('#df-d5a48acd-261d-400d-b462-48661749b471 button.colab-df-convert');\n",
              "        buttonEl.style.display =\n",
              "          google.colab.kernel.accessAllowed ? 'block' : 'none';\n",
              "\n",
              "        async function convertToInteractive(key) {\n",
              "          const element = document.querySelector('#df-d5a48acd-261d-400d-b462-48661749b471');\n",
              "          const dataTable =\n",
              "            await google.colab.kernel.invokeFunction('convertToInteractive',\n",
              "                                                     [key], {});\n",
              "          if (!dataTable) return;\n",
              "\n",
              "          const docLinkHtml = 'Like what you see? Visit the ' +\n",
              "            '<a target=\"_blank\" href=https://colab.research.google.com/notebooks/data_table.ipynb>data table notebook</a>'\n",
              "            + ' to learn more about interactive tables.';\n",
              "          element.innerHTML = '';\n",
              "          dataTable['output_type'] = 'display_data';\n",
              "          await google.colab.output.renderOutput(dataTable, element);\n",
              "          const docLink = document.createElement('div');\n",
              "          docLink.innerHTML = docLinkHtml;\n",
              "          element.appendChild(docLink);\n",
              "        }\n",
              "      </script>\n",
              "    </div>\n",
              "  </div>\n",
              "  "
            ]
          },
          "metadata": {},
          "execution_count": 11
        }
      ]
    },
    {
      "cell_type": "code",
      "source": [
        "sns.heatmap(data.corr(),annot=True)"
      ],
      "metadata": {
        "colab": {
          "base_uri": "https://localhost:8080/",
          "height": 452
        },
        "id": "GZskc3PEjL4t",
        "outputId": "8b67df0b-8565-4681-f40b-27d13e6973a3"
      },
      "execution_count": 12,
      "outputs": [
        {
          "output_type": "execute_result",
          "data": {
            "text/plain": [
              "<Axes: >"
            ]
          },
          "metadata": {},
          "execution_count": 12
        },
        {
          "output_type": "display_data",
          "data": {
            "text/plain": [
              "<Figure size 640x480 with 2 Axes>"
            ],
            "image/png": "[encoded data removed]"
          },
          "metadata": {}
        }
      ]
    },
    {
      "cell_type": "code",
      "source": [
        "sns.pairplot(data.corr())"
      ],
      "metadata": {
        "colab": {
          "base_uri": "https://localhost:8080/",
          "height": 964
        },
        "id": "PwEnmaVmjN4l",
        "outputId": "3ae89cfb-f9bd-4627-8efd-eafadd3fd183"
      },
      "execution_count": 13,
      "outputs": [
        {
          "output_type": "execute_result",
          "data": {
            "text/plain": [
              "<seaborn.axisgrid.PairGrid at 0x7f5bb4115060>"
            ]
          },
          "metadata": {},
          "execution_count": 13
        },
        {
          "output_type": "display_data",
          "data": {
            "text/plain": [
              "<Figure size 1000x1000 with 20 Axes>"
            ],
            "image/png": "[encoded data removed]"
          },
          "metadata": {}
        }
      ]
    },
    {
      "cell_type": "code",
      "source": [
        "sns.distplot(data['Sales'],color='red')"
      ],
      "metadata": {
        "colab": {
          "base_uri": "https://localhost:8080/",
          "height": 657
        },
        "id": "FoZAbBYjjSSF",
        "outputId": "c8d2c595-35fb-410f-d19a-c56b4a0b5987"
      },
      "execution_count": 15,
      "outputs": [
        {
          "output_type": "stream",
          "name": "stderr",
          "text": [
            "<ipython-input-15-f0b98da190b2>:1: UserWarning: \n",
            "\n",
            "`distplot` is a deprecated function and will be removed in seaborn v0.14.0.\n",
            "\n",
            "Please adapt your code to use either `displot` (a figure-level function with\n",
            "similar flexibility) or `histplot` (an axes-level function for histograms).\n",
            "\n",
            "For a guide to updating your code to use the new functions, please see\n",
            "https://gist.github.com/mwaskom/de44147ed2974457ad6372750bbe5751\n",
            "\n",
            "  sns.distplot(data['Sales'],color='red')\n"
          ]
        },
        {
          "output_type": "execute_result",
          "data": {
            "text/plain": [
              "<Axes: xlabel='Sales', ylabel='Density'>"
            ]
          },
          "metadata": {},
          "execution_count": 15
        },
        {
          "output_type": "display_data",
          "data": {
            "text/plain": [
              "<Figure size 640x480 with 1 Axes>"
            ],
            "image/png": "[encoded data removed]"
          },
          "metadata": {}
        }
      ]
    },
    {
      "cell_type": "code",
      "source": [
        "sns.scatterplot(x='TV',y='Sales',data=data,color='blue')\n",
        "sns.scatterplot(x='Radio',y='Sales',data=data,color='red')\n",
        "sns.scatterplot(x='Newspaper',y='Sales',data=data,color='green')"
      ],
      "metadata": {
        "colab": {
          "base_uri": "https://localhost:8080/",
          "height": 466
        },
        "id": "qK_inxUFjZRZ",
        "outputId": "4f3242c3-ef75-4d8c-b7de-439d1dcdb378"
      },
      "execution_count": 16,
      "outputs": [
        {
          "output_type": "execute_result",
          "data": {
            "text/plain": [
              "<Axes: xlabel='TV', ylabel='Sales'>"
            ]
          },
          "metadata": {},
          "execution_count": 16
        },
        {
          "output_type": "display_data",
          "data": {
            "text/plain": [
              "<Figure size 640x480 with 1 Axes>"
            ],
            "image/png": "[encoded data removed]"
          },
          "metadata": {}
        }
      ]
    },
    {
      "cell_type": "markdown",
      "source": [
        "# **Model Building**"
      ],
      "metadata": {
        "id": "fDcsPjRxja7t"
      }
    },
    {
      "cell_type": "code",
      "source": [
        "df=['TV','Radio','Newspaper']\n",
        "\n",
        "x=data[df]\n",
        "y=data['Sales']\n",
        "\n",
        "x_train,x_test,y_train,y_test=train_test_split(x,y,random_state=42,test_size=0.3)\n",
        "\n",
        "L=LinearRegression()\n",
        "L.fit(x_train,y_train)"
      ],
      "metadata": {
        "colab": {
          "base_uri": "https://localhost:8080/",
          "height": 74
        },
        "id": "Ylx7FLTfjdFF",
        "outputId": "cc4fc58a-f00c-4c34-d357-6eafdf38e9ec"
      },
      "execution_count": 17,
      "outputs": [
        {
          "output_type": "execute_result",
          "data": {
            "text/plain": [
              "LinearRegression()"
            ],
            "text/html": [
              "<style>#sk-container-id-1 {color: black;background-color: white;}#sk-container-id-1 pre{padding: 0;}#sk-container-id-1 div.sk-toggleable {background-color: white;}#sk-container-id-1 label.sk-toggleable__label {cursor: pointer;display: block;width: 100%;margin-bottom: 0;padding: 0.3em;box-sizing: border-box;text-align: center;}#sk-container-id-1 label.sk-toggleable__label-arrow:before {content: \"▸\";float: left;margin-right: 0.25em;color: #696969;}#sk-container-id-1 label.sk-toggleable__label-arrow:hover:before {color: black;}#sk-container-id-1 div.sk-estimator:hover label.sk-toggleable__label-arrow:before {color: black;}#sk-container-id-1 div.sk-toggleable__content {max-height: 0;max-width: 0;overflow: hidden;text-align: left;background-color: #f0f8ff;}#sk-container-id-1 div.sk-toggleable__content pre {margin: 0.2em;color: black;border-radius: 0.25em;background-color: #f0f8ff;}#sk-container-id-1 input.sk-toggleable__control:checked~div.sk-toggleable__content {max-height: 200px;max-width: 100%;overflow: auto;}#sk-container-id-1 input.sk-toggleable__control:checked~label.sk-toggleable__label-arrow:before {content: \"▾\";}#sk-container-id-1 div.sk-estimator input.sk-toggleable__control:checked~label.sk-toggleable__label {background-color: #d4ebff;}#sk-container-id-1 div.sk-label input.sk-toggleable__control:checked~label.sk-toggleable__label {background-color: #d4ebff;}#sk-container-id-1 input.sk-hidden--visually {border: 0;clip: rect(1px 1px 1px 1px);clip: rect(1px, 1px, 1px, 1px);height: 1px;margin: -1px;overflow: hidden;padding: 0;position: absolute;width: 1px;}#sk-container-id-1 div.sk-estimator {font-family: monospace;background-color: #f0f8ff;border: 1px dotted black;border-radius: 0.25em;box-sizing: border-box;margin-bottom: 0.5em;}#sk-container-id-1 div.sk-estimator:hover {background-color: #d4ebff;}#sk-container-id-1 div.sk-parallel-item::after {content: \"\";width: 100%;border-bottom: 1px solid gray;flex-grow: 1;}#sk-container-id-1 div.sk-label:hover label.sk-toggleable__label {background-color: #d4ebff;}#sk-container-id-1 div.sk-serial::before {content: \"\";position: absolute;border-left: 1px solid gray;box-sizing: border-box;top: 0;bottom: 0;left: 50%;z-index: 0;}#sk-container-id-1 div.sk-serial {display: flex;flex-direction: column;align-items: center;background-color: white;padding-right: 0.2em;padding-left: 0.2em;position: relative;}#sk-container-id-1 div.sk-item {position: relative;z-index: 1;}#sk-container-id-1 div.sk-parallel {display: flex;align-items: stretch;justify-content: center;background-color: white;position: relative;}#sk-container-id-1 div.sk-item::before, #sk-container-id-1 div.sk-parallel-item::before {content: \"\";position: absolute;border-left: 1px solid gray;box-sizing: border-box;top: 0;bottom: 0;left: 50%;z-index: -1;}#sk-container-id-1 div.sk-parallel-item {display: flex;flex-direction: column;z-index: 1;position: relative;background-color: white;}#sk-container-id-1 div.sk-parallel-item:first-child::after {align-self: flex-end;width: 50%;}#sk-container-id-1 div.sk-parallel-item:last-child::after {align-self: flex-start;width: 50%;}#sk-container-id-1 div.sk-parallel-item:only-child::after {width: 0;}#sk-container-id-1 div.sk-dashed-wrapped {border: 1px dashed gray;margin: 0 0.4em 0.5em 0.4em;box-sizing: border-box;padding-bottom: 0.4em;background-color: white;}#sk-container-id-1 div.sk-label label {font-family: monospace;font-weight: bold;display: inline-block;line-height: 1.2em;}#sk-container-id-1 div.sk-label-container {text-align: center;}#sk-container-id-1 div.sk-container {/* jupyter's `normalize.less` sets `[hidden] { display: none; }` but bootstrap.min.css set `[hidden] { display: none !important; }` so we also need the `!important` here to be able to override the default hidden behavior on the sphinx rendered scikit-learn.org. See: https://github.com/scikit-learn/scikit-learn/issues/21755 */display: inline-block !important;position: relative;}#sk-container-id-1 div.sk-text-repr-fallback {display: none;}</style><div id=\"sk-container-id-1\" class=\"sk-top-container\"><div class=\"sk-text-repr-fallback\"><pre>LinearRegression()</pre><b>In a Jupyter environment, please rerun this cell to show the HTML representation or trust the notebook. <br />On GitHub, the HTML representation is unable to render, please try loading this page with nbviewer.org.</b></div><div class=\"sk-container\" hidden><div class=\"sk-item\"><div class=\"sk-estimator sk-toggleable\"><input class=\"sk-toggleable__control sk-hidden--visually\" id=\"sk-estimator-id-1\" type=\"checkbox\" checked><label for=\"sk-estimator-id-1\" class=\"sk-toggleable__label sk-toggleable__label-arrow\">LinearRegression</label><div class=\"sk-toggleable__content\"><pre>LinearRegression()</pre></div></div></div></div></div>"
            ]
          },
          "metadata": {},
          "execution_count": 17
        }
      ]
    },
    {
      "cell_type": "code",
      "source": [
        "L.coef_"
      ],
      "metadata": {
        "colab": {
          "base_uri": "https://localhost:8080/"
        },
        "id": "0ZmeWmv-jgVv",
        "outputId": "fec71202-4fba-4fc5-8489-9c341db61f16"
      },
      "execution_count": 18,
      "outputs": [
        {
          "output_type": "execute_result",
          "data": {
            "text/plain": [
              "array([0.04405928, 0.1992875 , 0.00688245])"
            ]
          },
          "metadata": {},
          "execution_count": 18
        }
      ]
    },
    {
      "cell_type": "code",
      "source": [
        "L.intercept_"
      ],
      "metadata": {
        "colab": {
          "base_uri": "https://localhost:8080/"
        },
        "id": "OFporVd6jhgP",
        "outputId": "fd8f6d73-5819-46d7-bcc7-306ee6c3105e"
      },
      "execution_count": 19,
      "outputs": [
        {
          "output_type": "execute_result",
          "data": {
            "text/plain": [
              "2.7089490925159065"
            ]
          },
          "metadata": {},
          "execution_count": 19
        }
      ]
    },
    {
      "cell_type": "code",
      "source": [
        "y_pred=L.predict(x_test)\n",
        "y_pred"
      ],
      "metadata": {
        "colab": {
          "base_uri": "https://localhost:8080/"
        },
        "id": "m9bHy6VHjjBj",
        "outputId": "bed770da-1a8f-463f-860f-9169f3288f96"
      },
      "execution_count": 20,
      "outputs": [
        {
          "output_type": "execute_result",
          "data": {
            "text/plain": [
              "array([16.5653963 , 21.18822792, 21.55107058, 10.88923816, 22.20231988,\n",
              "       13.35556872, 21.19692502,  7.35028523, 13.27547079, 15.12449511,\n",
              "        9.01443026,  6.52542825, 14.30205991,  8.97026042,  9.45679576,\n",
              "       12.00454351,  8.91549403, 16.15619251, 10.29582883, 18.72473553,\n",
              "       19.76821818, 13.77469028, 12.49638908, 21.53501762,  7.60860741,\n",
              "        5.6119801 , 20.91759483, 11.80627665,  9.08076637,  8.51412012,\n",
              "       12.17604891,  9.9691939 , 21.73008956, 12.77770578, 18.1011362 ,\n",
              "       20.07590796, 14.26202556, 20.93826535, 10.83938827,  4.38190607,\n",
              "        9.51332406, 12.40486324, 10.17045434,  8.09081363, 13.16388427,\n",
              "        5.2243552 ,  9.28893833, 14.09330719,  8.69024497, 11.66119763,\n",
              "       15.71848432, 11.63156862, 13.35360735, 11.1531472 ,  6.33636845,\n",
              "        9.76157954,  9.4195714 , 24.25516546,  7.69519137, 12.15317572])"
            ]
          },
          "metadata": {},
          "execution_count": 20
        }
      ]
    },
    {
      "cell_type": "code",
      "source": [
        "act_pred=pd.DataFrame({\n",
        "    'Actual':y_test.values.flatten(),\n",
        "    'Predict':y_pred.flatten()\n",
        "})\n",
        "act_pred.head(10)"
      ],
      "metadata": {
        "colab": {
          "base_uri": "https://localhost:8080/",
          "height": 363
        },
        "id": "TVvGAycDjlCb",
        "outputId": "17d5fecc-5428-4423-f022-bf257440969c"
      },
      "execution_count": 21,
      "outputs": [
        {
          "output_type": "execute_result",
          "data": {
            "text/plain": [
              "   Actual    Predict\n",
              "0    16.9  16.565396\n",
              "1    22.4  21.188228\n",
              "2    21.4  21.551071\n",
              "3     7.3  10.889238\n",
              "4    24.7  22.202320\n",
              "5    12.6  13.355569\n",
              "6    22.3  21.196925\n",
              "7     8.4   7.350285\n",
              "8    11.5  13.275471\n",
              "9    14.9  15.124495"
            ],
            "text/html": [
              "\n",
              "  <div id=\"df-bc5a4820-48b6-4766-b1cc-3c4cf5edb0aa\">\n",
              "    <div class=\"colab-df-container\">\n",
              "      <div>\n",
              "<style scoped>\n",
              "    .dataframe tbody tr th:only-of-type {\n",
              "        vertical-align: middle;\n",
              "    }\n",
              "\n",
              "    .dataframe tbody tr th {\n",
              "        vertical-align: top;\n",
              "    }\n",
              "\n",
              "    .dataframe thead th {\n",
              "        text-align: right;\n",
              "    }\n",
              "</style>\n",
              "<table border=\"1\" class=\"dataframe\">\n",
              "  <thead>\n",
              "    <tr style=\"text-align: right;\">\n",
              "      <th></th>\n",
              "      <th>Actual</th>\n",
              "      <th>Predict</th>\n",
              "    </tr>\n",
              "  </thead>\n",
              "  <tbody>\n",
              "    <tr>\n",
              "      <th>0</th>\n",
              "      <td>16.9</td>\n",
              "      <td>16.565396</td>\n",
              "    </tr>\n",
              "    <tr>\n",
              "      <th>1</th>\n",
              "      <td>22.4</td>\n",
              "      <td>21.188228</td>\n",
              "    </tr>\n",
              "    <tr>\n",
              "      <th>2</th>\n",
              "      <td>21.4</td>\n",
              "      <td>21.551071</td>\n",
              "    </tr>\n",
              "    <tr>\n",
              "      <th>3</th>\n",
              "      <td>7.3</td>\n",
              "      <td>10.889238</td>\n",
              "    </tr>\n",
              "    <tr>\n",
              "      <th>4</th>\n",
              "      <td>24.7</td>\n",
              "      <td>22.202320</td>\n",
              "    </tr>\n",
              "    <tr>\n",
              "      <th>5</th>\n",
              "      <td>12.6</td>\n",
              "      <td>13.355569</td>\n",
              "    </tr>\n",
              "    <tr>\n",
              "      <th>6</th>\n",
              "      <td>22.3</td>\n",
              "      <td>21.196925</td>\n",
              "    </tr>\n",
              "    <tr>\n",
              "      <th>7</th>\n",
              "      <td>8.4</td>\n",
              "      <td>7.350285</td>\n",
              "    </tr>\n",
              "    <tr>\n",
              "      <th>8</th>\n",
              "      <td>11.5</td>\n",
              "      <td>13.275471</td>\n",
              "    </tr>\n",
              "    <tr>\n",
              "      <th>9</th>\n",
              "      <td>14.9</td>\n",
              "      <td>15.124495</td>\n",
              "    </tr>\n",
              "  </tbody>\n",
              "</table>\n",
              "</div>\n",
              "      <button class=\"colab-df-convert\" onclick=\"convertToInteractive('df-bc5a4820-48b6-4766-b1cc-3c4cf5edb0aa')\"\n",
              "              title=\"Convert this dataframe to an interactive table.\"\n",
              "              style=\"display:none;\">\n",
              "        \n",
              "  <svg xmlns=\"http://www.w3.org/2000/svg\" height=\"24px\"viewBox=\"0 0 24 24\"\n",
              "       width=\"24px\">\n",
              "    <path d=\"M0 0h24v24H0V0z\" fill=\"none\"/>\n",
              "    <path d=\"M18.56 5.44l.94 2.06.94-2.06 2.06-.94-2.06-.94-.94-2.06-.94 2.06-2.06.94zm-11 1L8.5 8.5l.94-2.06 2.06-.94-2.06-.94L8.5 2.5l-.94 2.06-2.06.94zm10 10l.94 2.06.94-2.06 2.06-.94-2.06-.94-.94-2.06-.94 2.06-2.06.94z\"/><path d=\"M17.41 7.96l-1.37-1.37c-.4-.4-.92-.59-1.43-.59-.52 0-1.04.2-1.43.59L10.3 9.45l-7.72 7.72c-.78.78-.78 2.05 0 2.83L4 21.41c.39.39.9.59 1.41.59.51 0 1.02-.2 1.41-.59l7.78-7.78 2.81-2.81c.8-.78.8-2.07 0-2.86zM5.41 20L4 18.59l7.72-7.72 1.47 1.35L5.41 20z\"/>\n",
              "  </svg>\n",
              "      </button>\n",
              "      \n",
              "  <style>\n",
              "    .colab-df-container {\n",
              "      display:flex;\n",
              "      flex-wrap:wrap;\n",
              "      gap: 12px;\n",
              "    }\n",
              "\n",
              "    .colab-df-convert {\n",
              "      background-color: #E8F0FE;\n",
              "      border: none;\n",
              "      border-radius: 50%;\n",
              "      cursor: pointer;\n",
              "      display: none;\n",
              "      fill: #1967D2;\n",
              "      height: 32px;\n",
              "      padding: 0 0 0 0;\n",
              "      width: 32px;\n",
              "    }\n",
              "\n",
              "    .colab-df-convert:hover {\n",
              "      background-color: #E2EBFA;\n",
              "      box-shadow: 0px 1px 2px rgba(60, 64, 67, 0.3), 0px 1px 3px 1px rgba(60, 64, 67, 0.15);\n",
              "      fill: #174EA6;\n",
              "    }\n",
              "\n",
              "    [theme=dark] .colab-df-convert {\n",
              "      background-color: #3B4455;\n",
              "      fill: #D2E3FC;\n",
              "    }\n",
              "\n",
              "    [theme=dark] .colab-df-convert:hover {\n",
              "      background-color: #434B5C;\n",
              "      box-shadow: 0px 1px 3px 1px rgba(0, 0, 0, 0.15);\n",
              "      filter: drop-shadow(0px 1px 2px rgba(0, 0, 0, 0.3));\n",
              "      fill: #FFFFFF;\n",
              "    }\n",
              "  </style>\n",
              "\n",
              "      <script>\n",
              "        const buttonEl =\n",
              "          document.querySelector('#df-bc5a4820-48b6-4766-b1cc-3c4cf5edb0aa button.colab-df-convert');\n",
              "        buttonEl.style.display =\n",
              "          google.colab.kernel.accessAllowed ? 'block' : 'none';\n",
              "\n",
              "        async function convertToInteractive(key) {\n",
              "          const element = document.querySelector('#df-bc5a4820-48b6-4766-b1cc-3c4cf5edb0aa');\n",
              "          const dataTable =\n",
              "            await google.colab.kernel.invokeFunction('convertToInteractive',\n",
              "                                                     [key], {});\n",
              "          if (!dataTable) return;\n",
              "\n",
              "          const docLinkHtml = 'Like what you see? Visit the ' +\n",
              "            '<a target=\"_blank\" href=https://colab.research.google.com/notebooks/data_table.ipynb>data table notebook</a>'\n",
              "            + ' to learn more about interactive tables.';\n",
              "          element.innerHTML = '';\n",
              "          dataTable['output_type'] = 'display_data';\n",
              "          await google.colab.output.renderOutput(dataTable, element);\n",
              "          const docLink = document.createElement('div');\n",
              "          docLink.innerHTML = docLinkHtml;\n",
              "          element.appendChild(docLink);\n",
              "        }\n",
              "      </script>\n",
              "    </div>\n",
              "  </div>\n",
              "  "
            ]
          },
          "metadata": {},
          "execution_count": 21
        }
      ]
    },
    {
      "cell_type": "code",
      "source": [
        "act_pred.sample(10).plot(kind='bar')"
      ],
      "metadata": {
        "colab": {
          "base_uri": "https://localhost:8080/",
          "height": 450
        },
        "id": "b7UfsP1tjnPe",
        "outputId": "4d325c8c-2eed-4856-f7e5-85b1d72d303b"
      },
      "execution_count": 22,
      "outputs": [
        {
          "output_type": "execute_result",
          "data": {
            "text/plain": [
              "<Axes: >"
            ]
          },
          "metadata": {},
          "execution_count": 22
        },
        {
          "output_type": "display_data",
          "data": {
            "text/plain": [
              "<Figure size 640x480 with 1 Axes>"
            ],
            "image/png": "[encoded data removed]"
          },
          "metadata": {}
        }
      ]
    },
    {
      "cell_type": "code",
      "source": [
        "r2=L.score(x,y)\n",
        "print('Coefficient of determination:',r2)"
      ],
      "metadata": {
        "colab": {
          "base_uri": "https://localhost:8080/"
        },
        "id": "6CCV5AHIjr4v",
        "outputId": "e7c0f7c4-389c-46cb-b371-87d36e8d92fb"
      },
      "execution_count": 23,
      "outputs": [
        {
          "output_type": "stream",
          "name": "stdout",
          "text": [
            "Coefficient of determination: 0.8938708191740676\n"
          ]
        }
      ]
    },
    {
      "cell_type": "code",
      "source": [
        "new=[[500,300,200]]\n",
        "print(L.predict(new))"
      ],
      "metadata": {
        "colab": {
          "base_uri": "https://localhost:8080/"
        },
        "id": "N4QBcjrbjtip",
        "outputId": "c323e6c7-2f1a-458c-942d-588e362369d0"
      },
      "execution_count": 24,
      "outputs": [
        {
          "output_type": "stream",
          "name": "stdout",
          "text": [
            "[85.90132909]\n"
          ]
        },
        {
          "output_type": "stream",
          "name": "stderr",
          "text": [
            "/usr/local/lib/python3.10/dist-packages/sklearn/base.py:439: UserWarning: X does not have valid feature names, but LinearRegression was fitted with feature names\n",
            "  warnings.warn(\n"
          ]
        }
      ]
    },
    {
      "cell_type": "markdown",
      "source": [
        "![thank u.jpg](data:image/jpeg;base64,/9j/4AAQSkZJRgABAQEAAAAAAAD/4QAuRXhpZgAATU0AKgAAAAgAAkAAAAMAAAABAE8AAEABAAEAAAABAAAAAAAAAAD/2wBDAAoHBwkHBgoJCAkLCwoMDxkQDw4ODx4WFxIZJCAmJSMgIyIoLTkwKCo2KyIjMkQyNjs9QEBAJjBGS0U+Sjk/QD3/2wBDAQsLCw8NDx0QEB09KSMpPT09PT09PT09PT09PT09PT09PT09PT09PT09PT09PT09PT09PT09PT09PT09PT09PT3/wAARCAE7AdoDASIAAhEBAxEB/8QAHwAAAQUBAQEBAQEAAAAAAAAAAAECAwQFBgcICQoL/8QAtRAAAgEDAwIEAwUFBAQAAAF9AQIDAAQRBRIhMUEGE1FhByJxFDKBkaEII0KxwRVS0fAkM2JyggkKFhcYGRolJicoKSo0NTY3ODk6Q0RFRkdISUpTVFVWV1hZWmNkZWZnaGlqc3R1dnd4eXqDhIWGh4iJipKTlJWWl5iZmqKjpKWmp6ipqrKztLW2t7i5usLDxMXGx8jJytLT1NXW19jZ2uHi4+Tl5ufo6erx8vP09fb3+Pn6/8QAHwEAAwEBAQEBAQEBAQAAAAAAAAECAwQFBgcICQoL/8QAtREAAgECBAQDBAcFBAQAAQJ3AAECAxEEBSExBhJBUQdhcRMiMoEIFEKRobHBCSMzUvAVYnLRChYkNOEl8RcYGRomJygpKjU2Nzg5OkNERUZHSElKU1RVVldYWVpjZGVmZ2hpanN0dXZ3eHl6goOEhYaHiImKkpOUlZaXmJmaoqOkpaanqKmqsrO0tba3uLm6wsPExcbHyMnK0tPU1dbX2Nna4uPk5ebn6Onq8vP09fb3+Pn6/9oADAMBAAIRAxEAPwDzsk5pMmk70V6J54uTS5NIKWmIXJpcmkpaAFyaMmiiqQhcmjJoopgLk04E0lLQIXJoyaWlxTEGTRk0YpaNQDJpcmkpapCFyaUE0lLSEGTS5NJS0xBk0uTSUtA9AyfWjJopRQGgZNOyaSigNBMml59aKKA0F5puTS0UBoJk0ZNLRQGgmTRk0tGKAG5NGTTqbSGgyaMmiihjEyaQk0tFLUYmTRuNFIaQBk0mSO9X9I0e71u9FtZpk9WduFQepr0vRfBWk6QFeSEXlyBzJMMqPov+NROooLVlwpub0R5bbWF7eHFtaTzf7kZIqzJ4e1qJC76XeKoHJMRr2xJnjQLGRGo4CoAoH5Uoup4+RKx+pzXO8Rrojf6u+rPAXDoSrKyspwVYYxTcmu2+KN3BLrdtAkUazxRbpmUdz0B+g/nXE10KV0mYNWduw3JpSTRRSYCZNNyaWkoGJk0hJpcUlIAyaTJpaSkMTml5pKWmMiI5opT1oFUQLS0lOFAmFFFLTFcKWkpadgCnCijFMQUoop1NCYopaQUtOwrhS1NZWNzqNytvZwPNM3RUH+eK7rTPhcxRX1a+8skZMNuNxH1Y1Mpxh8TsOMZSeiuef4pcV69H8P8Aw3GgVrW4kI6s0xBP5VkeKPAmj2Wi3OoWMs1s0C7vLc7g3bHPc1nHEQk7GkqM4q7R5zS0lLXRYxuGKWilxQK4mM0uKWjFABgUUU7FADaKdRQA3FOopRQAlFOwKMCgBtNqTAptADaKdRQFxtGKdRSGmMxSU6igBtFOopDuMqexs5L+/htYBmSVtoH+fSoHIQZP4Cuu+GNj9o1W8v3GRboEXvgt/wDWH61FSagmy4Qc3Y7vRdFttEsBb2yjdjMj45Y1fpcUlebJuTu2enGKirJCUjzR2sMt1N/qoEMj59B/j0p1cv8AETUjY+Go7NDiW/k+bB6IvX8zVU480kiKkuWLZ5nqN9LqeoXF5OcyTyFznt/+riq9FFehY4BDSU6kNTYYyinUUhjCKKKKAG0lLSUgQUUUtBVyI9aWjvRVGYtKKQUtMQtFFLTAKdTacKYgFLRQKYrjqXFFLTJCrOm6dPqt/FaWq7pZTge3v9BVXIAJPSvRPhVpqmO71N1yS3kxn0A6/wA8VM5qCbLhFzdkdX4c8OW/h6yEUOHmcZlmI5Y/4VrYpxFJXmyk5O7PSjFRSSErgPiZq5At9IjPXE0wH/jo/Dr+Nd+7pEjyyHEcal2J7Ac14Zq+ovq2rXN7IeZpCw9h2/SujCwu3Lsc+KnZKPcpYpaMgVbtdMvb44tbO4mP+xGSK7vM4SqKWuht/AfiG4AP2AxD1lkVP61eT4aa0QC01insZs/yFS6kFu0UoSeyZyVFdc/w11gD5J7Fz2AlIJ/MVg6poGo6JKF1C2aIN91wcq30IpxnGWiaZLjKO6Zn4zTgKMUtXYkTNFLRRYBKKWiiwCUtFFFgExTo43ldY41LyMcKoGc0ldx8O9Oilgn1J0DSLJ5UTHnGByf1xUTmoJtmlODm0kP0n4eW/kJJrFzKJGGfJhAG36k96y/GnhzTtAFm2nyzFp92UkOcAd69IxnoOegrzTx/e/afE8kIOY7VBCPr1P6muWjUnUnvouh016cKcEktWczg0YxS0YrraOQbRTsUhFADMU1yAPenE4qJ6lspK5HISc5P/wBavUfhlbeV4akmIGZ52bI7gYH9DXljV7J4Dh8nwdY4Od6lz+LE1yV3ZWOugtTfpMU6krkOu4gjZyqjqxwK8v8AiNqIvfFMkCNmKzQQr7Hqf1/lXqsTCIyTv9yFDIfwrwa9uWvb24uXOXlkZyfqa6cNHVs5sTLZFakp1JXUcolFFFJjG0UtJSYxtJS0UhjTSU6kNADaWiigLkfeloI5oqiRaKKWmIKWkpaYhRS0gp1MQUopaXFMQtHTmkqNzn+lD0BK42Qk/Sva/h/bfZvB1lxzIpkJx1yc14mEaU7I1Z3bgKoyTX0B4ftjZ6DZQFGQxwqCpGCOK5MS3ZHVhkrsv0YpaSuQ7CjrVjcalolxZ2sscMk+Iy7n7q9+nUnpXNWPwz0yDBvrqa6YdVQeWv8AjXZ0ySSOFC8jqiDksxwBWkas4rljoZSpQk+aRn2Xh/SNOx9k022Rh0Z13t+ZrS8xsbQxUDoF4A/Kua1Px9omm5Vbg3Mq8bYRu/XpWO/ivxNq8JfQ9BlER6TOpbP07fzquSctX+JPPTjol9x3R7kn6ms2+8QaXpwP2q+gQj+Hdk/kK8j1fV9dluXg1S5uo5FPzRH5APwFZOzJyeT6nmtY4buzOWJ7I9RvfiXpUORbRT3DD0G0H8657V/HVxrmny2bWUUVvIQRltzAjuPQ1ykcQ+8enpU9dFOhGLTtqc1SvKSs3oLRQKWugwCiiloC4lFLS4FAXG0UuKjkfqB0pPRDWpFNJnIHSvU/AESx+EbYgYMjux9/mx/QV5Q9eueCBjwjYf7rf+hGuPEu6OzCr3vkdDDjzlLfdX5j+HNeLajcG81K6uGJJklZsn3NexXsv2bSr+fvHbuR+IxXio6Clg46Nhi37yQlFLRXbbQ5LiU0mnU01LQIiamGnmmGoZpEhava/Box4Q0z/rgK8WfvXtfg7/kUdM/64LXJidkdWH3Zs4ptSUmBXKdZleKLo2HhDU5gcO6CJSD3PFeK16t8TJzD4Ut4f+e9wCfoP8ivKa7sOrQ9WcFd3m/IQ0lOpK3MxtJTqSpsAlIaWkqRjKKdTaBiUmKdSGkMbTqbTqEIiPWlFIetFWSLS0lLQIWiilFMQtLRRVAPFFPt7eW6nWG3ieWVjhUQZJr0Pw78LS+2fXnKjqLaM8n/AHj2+gqZSjBXkwjFzdkjgbHTbzVJxBY20k8h7IM4+vpXdaL8KXkAk1u68sf88YOT+Ldq9GstPtdNtlgsreOCID7qLjP19anxXJPEt/CreZ1ww6WsmZmlaBpmiRhdOs44jjmQjc5/4Eeav4PWn0gKuMqQR0yK5m23du50xSWiVhlGMsB6nFPxSx4EgJ6Dk/hQB5p4o+Il5Zandafp0MaeRIYzM/zE49BXDX+q6hqrlr+7lm77ScAfhTb6Q3WoXM56ySu5/E1XkOAQvU8cV6caagtjzZTc92d94D8FR3CR6tqKK8XWCIjIb/aPtXpiFt6gMQBwMcYFUtJtxbaPaQqMKkSqB6cU3W7z7BoGoXXRo4G2/U8D+dcU5OpO33HbGKpwueOeJb86t4jvrzOVeUhPZRwP5VnJH3NPRMdfxp9enGKWh5bk2IKWloxVkhQKXFAoAMUUtFAgoooNADXOahNSmojUstET1694JH/FI2H+6f8A0I15E1eu+CMnwjYf7p/9CNcWK+Fep24XdlrxRJ5XhHU2B5KKo/Fq8kr1Txsdngy55+9NGv615X6e/StMIv3fzMsW/wB5byEpKlMUoG4xSBfUoRUddRz+Q00008000mNERqM1KajNQy4kTjrXtvgz/kUdN/64LXib17H8PX3+DrPnkbh/48a48Tsjrw+7OjpKfSEVyHWcJ8V5cR6Tb+gZyPyFec13XxXkJ1yyi7JbfzNcLXpUVamjzajvN+olJTqSrJG0lONNpDEooopMdxpFNp5pKkY2kpaSkMQ0tBo5oQiI9aUUHrRVki0UUtMQUopaBTExRV7SdJutav47OyjLyOevZR6n2FUCQgJPQCva/hvoUemeHY7plH2i7G9mxyF7D6VFWpyRuVTpubsXvDHhKy8NWoEKrJdsP3k5HJ9h6Ct3FPpCOvOK85ycndnoxioLQZWZrev6f4ftjNqE6oSPljHLt9BXNeLviRb6WXstHK3F2OGlzlIz/U15Te3tzqV09zeTPNK55Zzn/IrenQctZaIwqV0tI6s6XxL8R9R1cSQ2JNnaEYwp+dvqf8K9V0CUXGgWUqkkNEpye/Ar57foRXvPgmVZvCOnMvIESr+XFOvFRSshUJOTdzcqG8k8qwu5f7kDt/46asGs/X3MfhvVGBwRaSYx9K54K8kjom7Rb8jwIngepGSaSAZvIR/elQf+PCkH3R9Kfa/8hC2/67J/6EK9Sb0Z5cFqj6EjGEUe1cx8RrnyfCpjB5nnVD7gcmuoX7g+lcR8UpcWWmQ/3ndz+AxXBQV6qO/EO1JnnVLSUor1zyQp1HFFABRiiimO4UUUtFhBSGn0ykwGmoTUxpIoZbmZIYEaSVzhVUZJNQy0Vmr1zwIc+EbL2DD/AMeNclF8Mtdnt/MJtI5MZETyfN+neup8BxPbeHjbSY8yG4lRgDnBBrhxElKOjvZnbhk1LVWui14ytprzwytvboXllukUKO9N8P8Ahi10WBWeKOa8I+aV13bfZQfT1rogFNquQMiUYz24rifE/jxdI1BrKwt0uJIj+9dzgA/3RjuPWs4SnKHs4/M0nCEZuc/kdn9qkxtcLJGeCrKOa818faRbaZq0E1kixw3cZfYBgKwPP513WkX39r6Tb3qIU85N20nOD6VwPjzUlvteEMLBorSMQgg5y3U/rx+FVhVJVGui3JxXLyJ9ehzBppp5ppr0HscBEaYalNRGoZaInr1r4YyM/hUKSSEmdQD2Gc/1ryZ69M+E8qnTb6Ld8yz5256AqP8A69cuIXunVh37x3mKTHSnkUnp9a4jtPMPikc+K0H923UfrXGV2HxQ/wCRuP8A1xSuONepT+Beh5c/ifqJSUtJVWEhCKTFOptIYlJS0lSNCU00+kNIYykpaKTGJS000vNJAR96KO5orQgXFLSUopiFFKSBnNFRuSaAtcZM5IPpivpDw0Vfw7Y7SCBCgGOf4a+bjXrXw28XW6aG1pqE8cRtBjLtjKDo34Zxj6Vy102tDpotRbuejSyJBG8szqkSDczMcACvJPGvxEl1NpNP0Z2is/uvMOGl9ceg/nVXxx45l8QyGysGaPTVOD2M3ufb2rjwMVVGhb3pbk1q99I7DcAUjdqkNMNdVjnuMNe2/DeTzPBtoCCNoI+vzGvEzXrfwluTLoM8LPkxTEBf7o4P9TXLiF7p04d+8d3WZ4mz/wAItq2P+fV/5VqVneIxnwxqg9bWT+Rrkh8S9TqqfA/Q+f8AsKfZ/wDIQtv+uyf+hCmdh9Kdb8XtufSVD/48K9OSujzI7o+iF/1Y+leefFOT/T9Ni9IWb8z/APWr0OLmEfSvOfin/wAhuxHpbf8As1cWF/i/edmK/hnEUUUo6gdz0AGa9Y8y4CloIYEZVl+oxVvTNMudXvUtbOPfI3XPRR6k9hSvZXYdbFSlr0O1+GVqIwbzUZWkxyIUAA/Oi5+GVqYz9j1OVX7CZAQfyrH6zS7m31epa9jzzFLitPWfD99oU6x3kY2N9yVTlG+h/pWZ2JreMk1dPQxaadmiS3hluZkhgQvK52qo716FpHgCwhgV9UElxMwyyK21V9uOtYPw4t1vNcmuCuRbR5XP94//AKq9OVNzgdiea4MTXafLFnbh6Ca5pHlvjTSdO07Vbez0iB1mdd0ibiQCeg+veur8J+FY9DgFxcAPeyLyTz5Y9B71R8N2J1jxDf6/cqTF5zJbA98HGfwArsqzrVmkoJ37mlCim3Nq2uhna9qH9k6De3wwHijxGT/fPA/nn8K5r4ZytJo10rOWZbgkgnOMgH9TVr4lzmLwrDEP+W9yM/8AARmsb4XXA8zULfHJ2SA/mP61Cj+5b8y3J+2sdV4tvp9M8Ni9tsebBdRsAe46EH2NeRXLvqepyOiHzLmUkKDnlj/9evX/ABhD53gvU1HJUK49sGuS+G3h5b27fV7gZigO2FT3f1+grSjJRpuRnWi51Eja1fVY/CXh63063ZTfeUEAHOz1b69a83OSSWJJJySe9eu+MvC417T/AD7ZAL+BflxxvX0ryN0ZHKOpVlOCpGCK6MM4uOm/U58QpKdnt0GmmGnmmmtzJEb1G1SmozUMpERruvhRMU1C/g42sqOf1H9a4Z66T4dXBh8VxoBnzYmXr0xz/SuesrwZ0UXaaPZsU3FS4pCK889A8r+KIx4rU/3rdTXGGu4+K0ePENq/962AH4GuHr1KWsF6Hl1NJteYhFJSmkqiUJSYpaSkxiU2nUlIoSkNLSVLGhKbTqbSGJS0ho5oAj7mig9aKsgWlpKKYgzTTS0UhoZipY4vWlRO9Siml3E5ABilooqrEBUZqSm0hojNejfCC52XV/bnGDscfqP8K86NdT8Nrz7L4ujQkATRMvPfHP8AQ1jXV4M3ou00e34qpqsfm6Nfp/etpB/46au02SMSxSRn+NCp/EV56dmjukrpo+bB9wfSmkkEMDgg5B9KllUxzSIf4WI/I1DJ90/SvWZ5Sdj6KsSXsIG65QEk85rzz4pj/ieWP/Xt/wCzV3fh+VrjQLKRiCzQoSR3+UVw3xWXbqunyHobcr+tcWG0q/edmK1pr5HH2FhcaneR2tpGXkkOAB0HufYV634c8L2mgWy/Ikt2RmSZlyfoM9BVbwP4cGj6UtzcJ/plyAxyPuL2H1rp8EkD1OKvE4jmbjHYWHw6SUpbnAfFHU444rWx2p5n+ucgDIHQD8a3PBukxadoMMgQCe4UPI2OTnoPoK8z8eXrXvizUSTlY38lR6BRj/GvYdI/5A9p6eUo/SlVk4UoxXXcKMVKo5tehS8T62vh3RjfGPzW3hFTOMk/4Vwp+KWoF8ixg256Fia2PitIRpWmxDo8rsfwFeaJHnk/dHU1dCjGULtEV60ozaT2O11PxzD4g0KeyuLBopjho3B3KGB/w4rjrgsDtZWXvgjGa9X8G+GINL09LuaNZLmZQw3Lnyx6DPeuT+JmoC68QpaBVH2WMBiB95jz+nArSnUipOnBabmc6cmlUk9WXfhW/wA+oqf9g5/OvRNjOkgUgMY2AJ7HFeefC21k/wBPuSCIiVQZ7kf/AK69EHGfcYrjr6TZ2UNYIp6dYpYafb2kIAWJAv1Pc/jTrW6hvYzLbOJIicBhznHH8way/GOsHRfDs8sbYnnPkxexPU/gM/nWP8NL4TaJJaFvnt5CMex5H9ankbg6hSmlPkQ/4nRsfDlk4HC3Jz7ZFc98NIpX1+4dc+UsGG/MY/rXaeOrU3ngu7wCWgdZRgfhVfwNojaRoKvMu24uj5jAjGB2H9a2jNKjbrcycW610bt/b/bNH1C3/wCelu4/HFZHwznik8KQxLjehZWHuDz/ADBrooMecoPRvlP414/Y63c+DfE97Cu5rdbhlkiBx0PUe4H51nCLlFpdNS6klCab6ntmCpyOtcb4y8FrqofUNMQLdgZkjHAl/wDr/wA66LRPEFlrlostvMrZ49Dn0I7H2rU2EdOtRCcqcroqcFUVj54kjaJ2R1ZXU4ZSMEGozXsvijwbaa+DNFtt70DiQDh/r/jXk+q6Re6NdG3voGjcHhsfK30PcV6dKtGotN+x5s6Uqbs9u5QNRGpTUZqpEoicVe8PXP2XxJYS5ACzAEk44PH9apNTN7ROrjqpDD8KymrxaNoOzR9HR8xqfUUpFVdHuVvdKt51JIdA3PHUZq5xXmnp9Dzj4tRf6Rpk3Yoy/wBa88r1L4rQ79G0+b/nnMV/Mf8A1q8tr0aDvTR5lZWqMKbTjTa0MxKQ06m0mUhKSlNJSKEooopANptOptSMSlpKKBkfeijuaKsgO9LRRTEGKcgoApaEhNi0+kpaokWiiimAUmKWkNADDV/w/efYfEVhcEkKs6hiPQ8H9DVA0x88449KzkrxaLi7NM+moDvhRs5yKeOHH1rL8LX39peHrS5zkvGpP5c/rmtWvKas7HqJ3sz568RW32TxFqMGMBLh8fnn+tZT9D9K634kWv2bxndEDCyqsnHfI5/lXKHvXrRfMkzymrSaPc/AsrS+EbAsSWEQBJ9uP6VF4h0D+2PFOjSTKTb2yPI+RwSCMCqHwtuzceG/JZgWhdkA9B1H8zXakZIPcDFec24Tdj0UlOCuMcqiFjwBTkB8xfrXF+KvFH2LxXpWlxybYt265x33cKD9OtdnG27Y/riplFxSb6lRkpXS6Hz94hDHX9T3fe+0yZ/76Ne0eF7kXnh2ylGPmiTgc44/+tXlXi7Tpf8AhOL60hQtLPcZjUDru5/rXruiaYNH0W1sgcmKMKxJzk104lpxTOXDXUmjlfinCX0zTJf4UkdSfTI/+tXnNnbvqWpW9lAD+9kCgD/PSvWfiJZG68HTOoy1tIsn4dD/ADrmvhl4faSaTWLhcIgKW+R1PdvoOlaUqijQ9LkVKblW9T0SGIRRxx9lABryHxzZS/8ACcXkSqzyTurRqB13AV68Zk+0+TuXeBuK5yRn1+tVLjRrO416HV5EzcxReWuRwPf69q5qNX2cm32OirTc0ku5D4e0hdD0S3sxguo3SMO7HrWj6+1Rajf2+lWMt5duFiiGT6n2Huelcj4Y8fRancy2+o7bed3JjOcKw7D2I6e/1qOWU7zLU4wtAxPiffPLrcFhyI7WIMR6s3OfywKx/BurnSNfj3NiC4xFJk4x6H8D/Oui+KVkGubHUo8FZEMTkeo5H5ivPyK76cVOkkcM5OFRs+gQUmhdGVXSQYZWHBps0sdvC808ixxIMszHAAryLR/HOqaTEITtuol4USk7h+Pp9c0niDxdf6/GIZAILcHJiQ53H3PeuZYaV7PY6XiI2utz0DQ/GFlrepXEMJ8tom/dhjjzFH8Q/wAK4j4kWItvFssyj93dRrMCO/Y/qK5eIvHIrwuySKchlOCKuX+pXupmNr64ado12qzdQK6KdHkm2trHPOtzxSe6IrDUrvSbkT2MzROOoHIb6jvXpXhv4m29wFg1MCCXOASfkP0Pb6GvLSKaRTqUVPyYqdZxPo+3ure9QPBIrbhkYPWotQ0211O2NvfQLNGezDOPp6V4PpPiHUtFcfZLhvLByYn5U/4fhXoOifFO2m2RakjW7ngs3zL+fb8a4pUZwd1rbqjrjVhNWf3FHxB8Mp4d02iyGePr5Ln5x9D3rg7m2mtZjDcxPFKpwVcYIr3+z1ayv41kt50ZWGQwOQfxpmqaLYa1D5d/axzr2Yj5h9DWsMU1pNX8zOeGT1g/kfPZqJ+9em6x8KckyaLdj1EM/wDRv8a4XVvDeraOSL6xmjUHG8Dcp/EV0KpGezMHTlD4keqfDS+F14VhjJG6ElCB7H/AiuuxXlnwlv8Ay7y7s2PDEOB9eD/SvViK4KitJo76bvFM5P4j2/neDpmA5hlV/pzj+teN1754jtftvhrUYMctCxHfpyP5V4IOg+ldmFd4W7M48SrTv3QlFFIa6DAbSGlNFSxjT1pDSmkNA0JRRSVI0NNJTqbUlCU7FNpaBkR60Ud6K0MxaUUgpaEIXNLRRVIQ+lpKWgQtFFFMAooooAaRTDTyKbSY0eufCXUvP0R7Nj81vIVA9jyP6ivQa8Q+GepfYfEhiaQKtxHgA92HP54zXuIIIBHQjivMrRtN+Z6NGV4LyPKfi9Z7dR0+8A4kjaMkd8HI/nXnRr2T4rWJufDCXAGWtpQxPoDwf6V40+e3XtXbh3emvI4qytNnrPwltSmh3NwR/rZTg+uOP8a7uR1iiaRzhEBZiewHNY3grTTpnhSyhYYdk3tn1PP9a0NVjF1o1/CpO5oJE47HbXDNqU36nbC8aa9DwLWNSl1PW7nUCx3ySl1Ppg8fkAK9s8K6vHrGh286sNxX5h6HoR+B/nXg/wDCPpXReEPFZ8NTyLMjyW0pBITqjeoHcEdRXZXpc8dOhyUKnI9ep60/h21k8UHW3w03lCNVI+6R/F9ccVb1HULbTLKS6vJViiTqzetc+nxJ0Awb2uSWxnYEYMfwxXnPivxVc+JboFsxWcZ/dQg/qfU1z06M6j97RI6J1YU17urZ7J/o2rabLC+Hinj2sAeoPcVQ1bVtP8I6MmVVUjXZBbpwWx/T1NeP6V4k1fSU8uzu2EWOFcbgv0z0qDUdSu9WufPv52mlxgE9vp6VtDCu9m9DOeJVrpal238W6jb+IZtW3b5Jz+8iJ+Ur2Htj1rtLf4o2JhzNa3Cy4+6ADn8a80256VPb20k0iwwRtJKxwqoMk1u6EJas51XlHRGp4n8T3XiO6DSZjt4z+7hB4HufUmsPZnjHWu80v4ayTwiTVb37Mzc+VEu9h9T0/nWR4r8OW/hy9hhgumuBKm87lwVH/wBenCVNvkixTjUS55LcxTdXMlqttJczPCpysbNkD6VBj9akxXTeDvDC6tIbq6B+zRNjb/fb0+grSTUFd7IiKc2kt2Z2l+EdY1aMS2dmxjPR3IQH6Z61S1PSbvSL02l7F5cwAJXdkYP0r2gJwEUYUDCqOMfSvMfHNx9p8XXpHIj2xA/Qc1hRrOrNq1kkbVqKpRTvds5zZikIqTFNIrqsc9yMgUwipiKYRUtDTIyKYR1qUikIqGiri2d7d2EnmWdxLA/co2M/410+m/EnV7EBZ1juQO/3T+nFcqRSYrOVOL6Gsako7M9Otfi1ZsALuznjOMkgBv5VPP8AFbSfLKx21xISPusgAP515TsoIxWf1eCdzR4iVrHSab4k87x5bagtvFaRSt5JSMbQAfXHfOK9vifzI1f1Ga+aDkEEHBByD6V774K1cax4dt5yQZCvzAdm6H9Rn8awxEbNNGuHldNG2yCSNkPR1IP4188X1s1nqFxbsCDFKyEH2NfRXSvEviBZfYvGF5gYWYCYe+Rz+oNVhHZtE4paJnNUh60tNNdpyCUUUUhjTSGlPWkNIoSiiipGNptOptSMSlzSUtAyLvRSetKK0MxaWkooQhwpabTqYhafTKeDVCFopKWgVwooooGIaZUlNPWkAtvcSWd1FcQnEkTB1PuK+iPDmpx6vo1vcxkEOgbAPTP+ByPwr5zNehfCzxJ9luX0qdjhiXiz0/2l+vf865cRTuuZdDqw87Oz6npfiWx/tLw9f2uMmSFsfUcivEfCGiNrviW2tip8qNvMmOOij/E8V9ADDrkYKsOD61h+GvC1v4cF20eGluZmdmx0XPC/QVhTrKEGur2NalLnmn0Nr5YkA4CKPyAryy3+KDW+s363UBms3lby2jHIXoAR/Wus+IGvjRvD8kcTYuroGOMDqB3P4CvEggT+vvWuHoqabkZ16vK0kx0xR55GjBEbOSoPYZpgTNP2Zp4GK7+U4nIjCYpQhNPAzT8VSiS5CAADFJsp+KsWVlNfXSW1shklkOAB/npTsLULHTp7+6S2tYzJK5wAO3/1q9T8OeGLbQIARiS7YfPMR09h6CnaDoNp4a093kZPN27p5zxjHXHsK0dOvo9Tso7uDIilG5M8ZH/1687EV3LSOx6GHoKLvLcsqu5wvqfyryDxRqP9qeIru4BygfZH/urxXrGoXH2TSr25/wCeUDsPrjFeIPJgerHkmrwUVrJ+hGNk7qKGyyCMHH3v5V614Rtha+F7FeMtHvY4xktzXjspJB+le56ZGItKtI16LEgH5UYuWiQ8ItWy5AB56E9AcnPtXi2p3H2rVbuc9ZJnb9a9juZRb2F3Of8Allbu36V4nnPJ7808FHRsWNlqkhKQilNJ+B/Ku04riYptO4P1oNFh3GEVHx613nhPwekqC+1WEPGwzFAxxn3Pt7VveKF02w8L3Ttp1oGIEcO2MD5z/gOa5pV4qagtWbqjJwc3ojyXHQYznjA712Wh/D5r61W41O6a1VxlYkXc+PfPT6VW8B6dFf6xLLMivHaoCAefmPT8sGvTEUySBR1Y4rKvWcXyx36mtCipLmlt0PKvF3hu18Nz28dtdtcecpcq64Kj1/GubNb3i++Oo+J72QHMcb+Ug9AvFYJraN+VX3MZWcnbYjNd38LNd+xalJpkh/dy5kj+o+8PxGD+FcKaW3uZbK6iubdyksTBlYcYIrOpDmTRpTm4u59NcH+leZfFuxxNp98o6q0LH9R/Wuw8JeIIPEGjwzxkB8Ydf7pHVfw/lVX4h6d9u8I3RUZkgxMv4df0zXHRbhUVzrrLmpux4lTaXtSV6R56YlJS0lIYlJS02kUFJS0hqRiU2nU2pGmIaM0hpaBkXeig9aKszFpaSlpoQtKKSlzTEOFOptFMQ8UtIKWmAUUUUCCkNLSUDGU6OSSGRJYXZJUO5WU4KkUhpalruUn2PX/CvxGsLqGO3vZPIuAAGEhwCe5B9+uDitzVvHGkaZZPMtyk8oHyxRsCzH8K8EEe84/OrCRrGMKB9cVisJFu99DZ4mSjZLU0ta1m617UHvLtsseFUdEX0FUMUAU4CuxRSSS2RxtvdiAClxmlpRVEthilxRRkDk8CmIdHG0jqiKWdjhVA6mvV/CXhhdDsxLOoN7KMu3Xyx/dFY/gDwxsjXWL6PDsP9HjYfdH976mug8Wa4PD+iSTqR9pl/dwKf7x7/QDmuDEVnOXs4fM78PSUF7SRyPxF8S+Y50a0f5Iz/pDA8E/3foK6zwjj/hFNO/64LXi0rtI7PIxZ2OSxOcmvYvAspl8JWRIA2pt49iR/Ss8RBQgoo0w83KbkybxpN9n8Hagw6vtjH4mvHHr1v4hHHg2XHe4QGvIjW2EVqfzMMU71PkRt0Ne82YxZQf8AXNR+leCt2+te+Wf/AB5w/wC4P5Vji90bYTqUvEknk+FNUkHBMO0fia8q03TbjVrxLa1XLN1J6KPU+1eleOZRD4NvCTjfIi/rmsn4bW6nR7i7x88spUH0Vf8AHrVUKipUXLdtk1qbq1lHokbGk+FNM0uNP9FS5uAPmlmG7J9h0xWyGRQFEMGAPu+UBUd1P9jsbm6PSCFpPxA4/XFePab4w1fTZ/M+0tcRsctFMdwP0PasEp1byubN06Vo2PV7/QtH1NCLvTYg5/jh+Qj8qitfDmjac4e10+MOOQ8p3n9aZ4f1638QaeLiAFWU7ZEPVG9Pce9Znjy5ay/sCRJXjikuv3yqcBgCMZ+lTGU78l2inGmlzpJnS9ea4X4n3hjj0yyBwCrTtj64H8jXdds/jXnXxUz/AG9ZDt9jXH5mqw+tS4sQ7U7EnwvI36kOM/IR79a9Etv9eD/dBP5CvLvhpN5euXMWP9bBkH0wf/r16paAfaVHqCP0pV1aoOi70zwi5cyXMzHq0jE/nVc1avomhv7iJhhklZSPxqsRXpM85EZFMIqQ001DLRo+HvEl34avxPbEtE2BJCTww/xHrXrVj470LXrBrea6WF5UKOkp2kZHv/SvFYbaa8nSC3iaWVzhVQZJrp4PhtrzRiRraASEZEbzLuH/ANesJ04tpt2ZtCpJJq10YVzELe5lhDKwjcqGByCBUNXtT0PUtHcLqFnLDngMRlT+IqjXSnfU57W0EzSUE0ZpDQ2kNLSUigptLSVIxtFFJUjENLSGloBkR60UhPNLVki0tJRTQmOp1Mp9MkKUUlLTEPFFNFOFMBaKKKZIUUUUrDuFATJ9qXBNSpgU0hNggAGAKfTaKtKxI8U6mCnA1SExaKKSgQ7IFbvg3w+fEesDzlIsrchpT/e9F/H+Vc4d0sixRgs7sFVR3Jr3LwvoaaBocNqAPNI3ysP4nP8AhXNia3JGy3Z04ajzu72RphAAqKAqgYAHAH/6q8c8da3/AGxr8ixNm2tv3UXPB9T+J/lXp3ivVP7H8N3dypxIV8uP/ebj9BmvDiTznknqawwkN5s3xU9VBDGr1f4aTGXwsEJz5crqB6c5/rXlDV6L8KbnMF/bn+GQOOeuV/8AsarFK8CMM7TN74hLnwZOfSZDXkBNe0+NIfO8F6iMZKKrj8DXipp4R3h8xYlWqeqI27V75Zc2UH/XMfyrw7SrJtR1a1tVGTLIAcdh3/SveEjEaBB0UYFZYzRo1wmtzlfiW5Tweoz966UH3wKh+Gkinw0UB5WdwR6dDSfFF8eG7Nf710T/AOO1nfC28Gy/sz1VhIOOxGP5gVFv3C9S7/v36HX+JMjwpqpHX7OR+teHnGPwr3rVLb7VoepQDq9swx9BmvDbKzl1G9gtIVJklYIAO3/6q0wvwP1MsSm5o9O+Hlk1r4aWVhhriQv9R0H8qzfitc7LfR4VOJFMko/QD+VdtZ2qWVnDbQgbIkCDHfFeX/Em9F14qaFTlLSJYfoep/U1nS9+q30NanuUkup6Vpl0t9plvcKciSNWz9R/jXGfFe2PnaVd4+VoWjJ9wc/1q78ONSNzoZtXOWtn2j/dPI/qK2/FOgjxHosFsHVHguFfcTyEP3vxxUQ/d1Ndi5/vKWhy/wANtIMcE2pyLgyfu4s9x3Nd7ExjmRvRqitrWKytora3QLFEoVVHaqiaxYS6tNpkc6m7hUGRDx19PXHGfSpqNzk2i6aVOKTPNfG9ibDxdfJjCSP5q+hDc/41z5r0L4oWJkjsNTUZ4MEpHYjkf1rz3pXo05c0EebUjyzaGGm084qKQ54HT+dU7Aj034X6Tb/YJtSwGuGYxq2c7QP6mu2eEelebfC3XlsrybTZ2AjlO+PJ6noR9T1/CvV2iVwGQgqRkEd682tfn1PQo2ULIy7uzGpWFxp82GSeNlXcM7Wxwa8KuLeS1uZbeZdssTFGB7EV9AvEQcjgg5BrzD4naSLXWItRjXEd6vzY7OOv5jBrXCzs3FmWJhopI4k02lpK62ciQlFFFDKENJS0lSMbSUUVIwoptOoGQ96WmnrS1ZAopaSlpiYtLSUtNEiilpBS0wYtKKSnUxDqKSloQmFLikpwNUIcKWmg0tMQ+im0uaBC06m0VQh+ajaTFKTionOaTY0jofANsl54wtRIAViBkweeR/8Arr28j1r550XVpNE1iC9jBbyzhlBxuU9RXuej6/ZaxYR3FvOrKw55xj2PoR715mJUr36Ho4aUVF9zjPitfENYaep4AMzgd+w/rXnBrqPiBere+LrkxuGjiVYwQcjgc/qa5c120Vy00jiqScptjHrq/hte/Z/E7Qk4FxCQOM5KnP8ALNcqelWdFvf7N1uzu84WOUFv908H9DSqrmi0XSdpJnuuq232rQ9Qt+8lu4/TivAyen05r6HtmWVEOQVYbT714VdaLcS+J5tJtkJm+0Mir6c9foBXPhJJJr5m+Ki200dL8MtIaa/m1SRf3cI8uMkdWPX8hXplVNH0mLRNKgsYB8sS4Zv7zdzVzqWH93g1z1p887o6aUOSCRxPxV/5ANh/18N/6DUvw88PtpmlNfXKFbi6HCn+GPt+fWul1XSLPVxai8QyLayGRUPCsff2FS3t3babZvdXcixQRDLMeMew9z0xT5701Bbk+ztNzexPDjzQCPlbKkfXiuO8K+EDo+rX97dKN4leO3U9kz978elO8P8Aj6z1e5mjuNtpLu/dq7YDL2wT39q6Wa+tbeAzz3CJEoyWJpLnheNtxvklaV9hmo6hFpOnz305ASBdwB/iPYfia8JvLiS8upbiY5klcux68muj8XeLH1+byLfMdjG2VXoZD6muZNdlGlyR13Zx1qvPLTZFrR9XuNE1CO7tznbw0ZOA49DXrGleL9I1OAMt3HFLj5o5TtI/Pr9a8aNAjB5I4onRU9WOFZwVlseoeKfHVvYWxt9KlWa6cY8xTlY/8TXmBlmefz/MczFt28HBz659aXHoOO2KfGgTkj5v5VcKUYqyInVcnc0Ztd1S808Wl5eSTRZDbX5PHv3rPPFKaYea0skrJGd23dsY5zUZp5phqGXEZ8yOGUkMpyGBxg16H4W+KD2aLba1udRwJwM5/wB4evuK8+IphFZTgpqzNYzcdUfQFv4y0G8j3rqFuBjJBkAx+dcP8R/Emn6ra21jp8onaOUyNIOg4xj8a86jhX7zDJ7DFS0qdBRd2x1KzmrBRRSVszFBScUUlIYU00UVLGJRRRSGNp1Mp9AyA9aUUh60oqyApaSlpiFFLSUtNCFp1NooJHClpop1UA8UtMFOzQAtLSUVSZI4UuabSimDHUtJS0Ei5oJpKQmi4CE0w0402pepS0EIqWEPHlw7KT12kjNEcY4J/Cnmmo9wcnsgPPJ696aadTTTYkMNMYZFPNNNQykezeAdcGraDCrsPPgAjce47/iMVsW2g2Vrrd7qiLuubogFj/CMYwPrjNeJaB4gu/D16Z7XDowxJExwG/wI9a7Q/FtjHhdLYyY6tKMA/gK4J0ZqT5dmd8K0HFOW6O08ReILXw5prXNywMhGIoh1du34e9VfBuoy6t4chvLhi00mTIx7nJH5cV49rWsXmuX7Xd7IXduAo4Cj0HtXp/wylEvhREAOY5HU57/Nn+tFSj7Omu4U6rnUfY2PEuvQ+G9PivJ4pJVd/LCoBknqOteU+KPFV34knG/MNqhzHCD09z6mvQPigmfCKH0uV/lXkeM1rhqa5ea2pliKj5uXoR7A/GM+1TgMAAzs2OgJJxSogH1p1dajbU5HK+gw03BpxFGKHqGw3Z3NLTqXimkO4iDHPenU2kNGwgNMpxpKljQwim4p5pKlou9iPFPSMDk9aXApaSQXA0lFFMBKKKSlcaA0lFNpFBSUUmalhYDSUUUhiUtJS0DIj1pKO9FUSOpaaKWmIdRSA0tMQtLSUCmSPoptKDTEOp1MpaYDxS02nUCFopKWqTELnFOzTKXNMB1NpaMUAJ7U4J3pAKcKLA2OopM0Zp3JA000tJSGNNNNPIoAzUtDvYYEzTuAMCnHAppNFrD3GGvUvhLN5mjXcODmOcnP1ANeWvXonwhmYS6jDxt3I34kEf0Fc2I+A6cO/fR0vxHjMngyY/3Jkb9a8gAx9a9q8dxGTwXqA/uhW/8AHq8VqsJ8HzIxXx/IKbTqbXUzmCiiikUFFFJmgBabRRUjQUlFJSYwxR0opKQBSUUlA0GaKKTNJlC0hozSVIwptFJSGFFIaSkNBSUUUmAlOptOoQyA/eopDS1RItOFNFFAh1KKSlpiFpaTNFNCaFpRSUUxD6Wm5paYh9FNp1MBaWmg0tAh1FJRVJiHUZpKKEwHZpaaDS0xMdmjNJRQAtJRRQAUvSikoHuBphpxNNNSxoY9dn8KZlj8SXEZPMkAIHrhv/r1xRrofh/dG28YWvIAlV0Ofpn+lYVleDN6Ok0ew+LIjL4S1RB1MBP5c14SDwK+g9XiFxo99EP+Wlu4/wDHa+efQelRg37rXmVi176fkOoopM12HIGaDSUUDDNFFJSAXNJRSVNygzRkUlJQAuaSikpDSCiikpDCkoptK4x1NoNJSGFGaTNLSY0IabS0lSMKSlpKGMKXIpDRSQER+9RQfvUVRIUopKKYC06m0UxD6Wm0uaBDqKSlpoQtFJS0xDs0U2nUxC06mUtMB4pabS5oELRSUtO4haM0lFNMB9GRTc0UXAdmlptGaLhYdSGjNITQwQlJS00mpZQw1c0G4Nr4h0+YY+W4Tr7nH9apGmbyhDDqp3DPtWcldNGkXZpn02oEtoF7PGR+lfOtzH5V1NH/AHJGX8jivoHQroXujW04YMHQHI6HIz/WvC/EkJtvEuoxYxtuHwPxyK58I7cyNsXrZmdRmkpDXacYtFJmjNK47BmjNJSUDFzQTSUUAFFJRSAKKSjNIoM0lFNpMaQUUUlIYUUU2kMKKKTNSMKKKSgYUmTS5pKQwpabRmhCIj1ooPWkpiH0U2nVVxC0UlFADhS02lzTEOBpabS5pisOopKKYhaWkooEPozTaKYmPopopc0wH0tMp1AC7hS02lzRcVhaM0gpaLhYKWkoouFhaM0lFFwQUw0GkNJjENMNONMPepZaPcPhdqP23wlDHuJeAmM5OcYP+BFeffEK3+zeNb4dpCsg/Fa0PhJq4s9VuLGRsLMA6c9xwf0wfwqT4sweV4nt5xjbNbjkeoJH+Fc1FctVrujeq+amn2Zw+aKTNFdhyhRmkzRQAtGaTNFIAoopDQNIKM03NLSAKbRSUFC0UlIakYpNFNopDCiikouFgpKKKkYZozSUUmMKSim0DFNLTadRcRCTRUk6hZWCjABNMqtxMSlop4p2E2JRRTsUWFcSilxSgU7CuNp1LilFOwXEB9aWjFOFAmxtLS4paaQrjaWlpadguNp1FFOwBmjNFPosTcbRTgKXA9KLBcbmlpcD0pdo9KLBcbS5oxS7R6UWC4maM07aPSjaPSiwXGHrTSacRRSaHciptSU3FS0WmLa3M1pdRz2zsksZyrDjFa+seIb/AF/yDqLRs0AKqUTbjNZcSjPSpcD0ojFfEJyfwjaKdgelNI6VdiLiUZpaXaPSiw0xlGcU/aPSkxSsMZmlp20elG0elJoLkdFOwKCKVhpjM0maeaTFFh3GmkqTaPSm7R6UrDuNpKdRSaGmNpKdig0rDuNzSU6ikwuNpKdikxSsO4yin4oxRYLjKdS4rRjjTy1+Reg7VLdhpXP/2Q==)"
      ],
      "metadata": {
        "id": "cEElCqN4jwTw"
      }
    }
  ]
}